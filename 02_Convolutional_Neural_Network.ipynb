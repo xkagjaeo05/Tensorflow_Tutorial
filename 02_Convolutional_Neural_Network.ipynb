{
 "cells": [
  {
   "cell_type": "markdown",
   "metadata": {
    "colab_type": "text",
    "id": "zidSc-leUhow"
   },
   "source": [
    "# TensorFlow Tutorial #02\n",
    "\n",
    "# Convolutional Neural Network"
   ]
  },
  {
   "cell_type": "markdown",
   "metadata": {
    "colab_type": "text",
    "id": "KsvsBA8sU4mA"
   },
   "source": [
    "## Introduction \n",
    "\n",
    "The previous tutorial showed that a simple linear model had about 91% classification accuracy for recognizing hand-written digits in the MNIST data-set.\n",
    "\n",
    "In this tutorial we will implement a simple Convolutional Neural Network in TensorFlow which has a classification accuracy of about 99%, or more if you make some of the suggested exercises.\n",
    "\n",
    "Convolutional Networks work by moving small filters across the input image. This means the filters are re-used for recognizing patterns throughout the entire input image. This makes the Convolutional Networks much more powerful than Fully-Connected networks with the same number of variables. This in turn makes the Convolutional Networks faster to train."
   ]
  },
  {
   "cell_type": "markdown",
   "metadata": {
    "colab_type": "text",
    "id": "QUcrE09nU9N3"
   },
   "source": [
    "## Flowchart\n",
    "\n",
    "The following chart shows roughly how the data flows in the Convolutional Neural Network that is implemented below.\n",
    "\n",
    "![Flowchart](images/02_network_flowchart.png)\n",
    "\n",
    "The input image is processed in the first convolutional layer using the filter-weights. This results in 16 new images, one for each filter in the convolutional layer. The images are also down-sampled so the image resolution is decreased from 28x28 to 14x14.\n",
    "\n",
    "These 16 smaller images are then processed in the second convolutional layer. We need filter-weights for each of these 16 channels, and we need filter-weights for each output channel of this layer. There are 36 output channels so there are a total of 16 x 36 = 576 filters in the second convolutional layer. The resulting images are down-sampled again to 7x7 pixels.\n",
    "\n",
    "The output of the second convolutional layer is 36 images of 7x7 pixels each. These are then flattened to a single vector of length 7 x 7 x 36 = 1764, which is used as the input to a fully-connected layer with 128 neurons (or elements). This feeds into another fully-connected layer with 10 neurons, one for each of the classes, which is used to determine the class of the image, that is, which number is depicted in the image.\n",
    "\n",
    "The convolutional filters are initially chosen at random, so the classification is done randomly. The error between the predicted and true class of the input image is measured as the so-called **cross-entropy**. The optimizer then automatically propagates this error back through the Convolutional Network using the chain-rule of differentiation and updates the filter-weights so as to improve the classification error. This is done iteratively thousands of times until the classification error is sufficiently low.\n",
    "\n",
    "These particular filter-weights and intermediate images are the results of one optimization run and may look different if you re-run this Notebook.\n",
    "\n",
    "Note that the computation in TensorFlow is actually done on a batch of images instead of a single image, which makes the computation more efficient. This means the flowchart actually has one more data-dimension when implemented in TensorFlow."
   ]
  },
  {
   "cell_type": "markdown",
   "metadata": {
    "colab_type": "text",
    "id": "hGSZo5BoVO1T"
   },
   "source": [
    "## Convolutional Layer\n",
    "\n",
    "The following chart shows the basic idea of processing an image in the first convolutional layer. The input image depicts the number 7 and four copies of the image are shown here, so we can see more clearly how the filter is being moved to different positions of the image. For each position of the filter, the dot-product is being calculated between the filter and the image pixels under the filter, which results in a single pixel in the output image. So moving the filter across the entire input image results in a new image being generated.\n",
    "\n",
    "The red filter-weights means that the filter has a positive reaction to black pixels in the input image, while blue pixels means the filter has a negative reaction to black pixels.\n",
    "\n",
    "In this case it appears that the filter recognizes the horizontal line of the 7-digit, as can be seen from its stronger reaction to that line in the output image.\n",
    "\n",
    "![Convolution example](images/02_convolution.png)\n",
    "\n",
    "The step-size for moving the filter across the input is called the stride. There is a stride for moving the filter horizontally (x-axis) and another stride for moving vertically (y-axis).\n",
    "\n",
    "In the source-code below, the stride is set to 1 in both directions, which means the filter starts in the upper left corner of the input image and is being moved 1 pixel to the right in each step. When the filter reaches the end of the image to the right, then the filter is moved back to the left side and 1 pixel down the image. This continues until the filter has reached the lower right corner of the input image and the entire output image has been generated.\n",
    "\n",
    "When the filter reaches the end of the right-side as well as the bottom of the input image, then it can be padded with zeroes (white pixels). This causes the output image to be of the exact same dimension as the input image.\n",
    "\n",
    "Furthermore, the output of the convolution may be passed through a so-called Rectified Linear Unit (ReLU), which merely ensures that the output is positive because negative values are set to zero. The output may also be down-sampled by so-called max-pooling, which considers small windows of 2x2 pixels and only keeps the largest of those pixels. This halves the resolution of the input image e.g. from 28x28 to 14x14 pixels.\n",
    "\n",
    "Note that the second convolutional layer is more complicated because it takes 16 input channels. We want a separate filter for each input channel, so we need 16 filters instead of just one. Furthermore, we want 36 output channels from the second convolutional layer, so in total we need 16 x 36 = 576 filters for the second convolutional layer. It can be a bit challenging to understand how this works.\n",
    "\n",
    "Example from CS231N\n",
    "\n",
    "![Convolution filter1](images/02_convolution_filter1.png)\n",
    "![Convolution filter1](images/02_convolution_filter2.png)\n"
   ]
  },
  {
   "cell_type": "markdown",
   "metadata": {
    "colab_type": "text",
    "id": "TnHfLJ3kdSQf"
   },
   "source": [
    "# Imports #\n"
   ]
  },
  {
   "cell_type": "code",
   "execution_count": 0,
   "metadata": {
    "colab": {},
    "colab_type": "code",
    "id": "RXN75aQgdY-H"
   },
   "outputs": [],
   "source": [
    "%matplotlib inline\n",
    "\n",
    "import matplotlib.pyplot as plt\n",
    "import tensorflow as tf\n",
    "import numpy as np\n",
    "from sklearn.metrics import confusion_matrix\n",
    "import time\n",
    "from datetime import timedelta\n",
    "import math\n",
    "\n",
    "import warnings\n",
    "warnings.filterwarnings('ignore')"
   ]
  },
  {
   "cell_type": "code",
   "execution_count": 2,
   "metadata": {
    "colab": {
     "base_uri": "https://localhost:8080/",
     "height": 35
    },
    "colab_type": "code",
    "executionInfo": {
     "elapsed": 2069,
     "status": "ok",
     "timestamp": 1547022770278,
     "user": {
      "displayName": "Kyeong Hwan Kim",
      "photoUrl": "https://lh3.googleusercontent.com/-w0uAFDcbl8M/AAAAAAAAAAI/AAAAAAAAAD4/peltVh4_2BQ/s64/photo.jpg",
      "userId": "18391823257989996047"
     },
     "user_tz": -540
    },
    "id": "QNPTegUydi-L",
    "outputId": "7e4aa1c6-baf3-428c-933b-a9e2e78bb3f6"
   },
   "outputs": [
    {
     "data": {
      "text/plain": [
       "'1.12.0'"
      ]
     },
     "execution_count": 2,
     "metadata": {
      "tags": []
     },
     "output_type": "execute_result"
    }
   ],
   "source": [
    "tf.__version__"
   ]
  },
  {
   "cell_type": "markdown",
   "metadata": {
    "colab_type": "text",
    "id": "xpvKy-WLdnNS"
   },
   "source": [
    "## Configuration of Neural Network ##\n",
    "\n",
    "The configuration of the Convolutional Neural Network is defined here for convenience."
   ]
  },
  {
   "cell_type": "code",
   "execution_count": 0,
   "metadata": {
    "colab": {},
    "colab_type": "code",
    "id": "x2k5V8iod2z6"
   },
   "outputs": [],
   "source": [
    "# Convolutional Layer 1.\n",
    "filter_size1  = 5    # Convolution filters are 5 x 5 pixels.\n",
    "num_filters1 = 16    # There are 16 of these filters.\n",
    "\n",
    "# Convolutional Layer 2.\n",
    "filter_size2  = 5    # Convolution filters are 5 x 5 pixels.\n",
    "num_filters2  = 36   # There are 36 of these filters.\n",
    "\n",
    "# Fully-connect layer.\n",
    "fc_size       = 128"
   ]
  },
  {
   "cell_type": "markdown",
   "metadata": {
    "colab_type": "text",
    "id": "0GALQqdleTaC"
   },
   "source": [
    "## Load Data\n",
    "\n",
    "The MNIST data-set is about 12 MB and will be downloaded automatically if it is not located in the given path."
   ]
  },
  {
   "cell_type": "code",
   "execution_count": 4,
   "metadata": {
    "colab": {
     "base_uri": "https://localhost:8080/",
     "height": 538
    },
    "colab_type": "code",
    "executionInfo": {
     "elapsed": 11768,
     "status": "ok",
     "timestamp": 1547022780002,
     "user": {
      "displayName": "Kyeong Hwan Kim",
      "photoUrl": "https://lh3.googleusercontent.com/-w0uAFDcbl8M/AAAAAAAAAAI/AAAAAAAAAD4/peltVh4_2BQ/s64/photo.jpg",
      "userId": "18391823257989996047"
     },
     "user_tz": -540
    },
    "id": "6HWSDnPZeXG-",
    "outputId": "74049b17-449f-48f1-86c1-23d80f0fa053"
   },
   "outputs": [
    {
     "name": "stdout",
     "output_type": "stream",
     "text": [
      "WARNING:tensorflow:From <ipython-input-4-37adf088ce13>:2: read_data_sets (from tensorflow.contrib.learn.python.learn.datasets.mnist) is deprecated and will be removed in a future version.\n",
      "Instructions for updating:\n",
      "Please use alternatives such as official/mnist/dataset.py from tensorflow/models.\n",
      "WARNING:tensorflow:From /usr/local/lib/python3.6/dist-packages/tensorflow/contrib/learn/python/learn/datasets/mnist.py:260: maybe_download (from tensorflow.contrib.learn.python.learn.datasets.base) is deprecated and will be removed in a future version.\n",
      "Instructions for updating:\n",
      "Please write your own downloading logic.\n",
      "WARNING:tensorflow:From /usr/local/lib/python3.6/dist-packages/tensorflow/contrib/learn/python/learn/datasets/base.py:252: _internal_retry.<locals>.wrap.<locals>.wrapped_fn (from tensorflow.contrib.learn.python.learn.datasets.base) is deprecated and will be removed in a future version.\n",
      "Instructions for updating:\n",
      "Please use urllib or similar directly.\n",
      "Successfully downloaded train-images-idx3-ubyte.gz 9912422 bytes.\n",
      "WARNING:tensorflow:From /usr/local/lib/python3.6/dist-packages/tensorflow/contrib/learn/python/learn/datasets/mnist.py:262: extract_images (from tensorflow.contrib.learn.python.learn.datasets.mnist) is deprecated and will be removed in a future version.\n",
      "Instructions for updating:\n",
      "Please use tf.data to implement this functionality.\n",
      "Extracting data/MNIST/train-images-idx3-ubyte.gz\n",
      "Successfully downloaded train-labels-idx1-ubyte.gz 28881 bytes.\n",
      "WARNING:tensorflow:From /usr/local/lib/python3.6/dist-packages/tensorflow/contrib/learn/python/learn/datasets/mnist.py:267: extract_labels (from tensorflow.contrib.learn.python.learn.datasets.mnist) is deprecated and will be removed in a future version.\n",
      "Instructions for updating:\n",
      "Please use tf.data to implement this functionality.\n",
      "Extracting data/MNIST/train-labels-idx1-ubyte.gz\n",
      "WARNING:tensorflow:From /usr/local/lib/python3.6/dist-packages/tensorflow/contrib/learn/python/learn/datasets/mnist.py:110: dense_to_one_hot (from tensorflow.contrib.learn.python.learn.datasets.mnist) is deprecated and will be removed in a future version.\n",
      "Instructions for updating:\n",
      "Please use tf.one_hot on tensors.\n",
      "Successfully downloaded t10k-images-idx3-ubyte.gz 1648877 bytes.\n",
      "Extracting data/MNIST/t10k-images-idx3-ubyte.gz\n",
      "Successfully downloaded t10k-labels-idx1-ubyte.gz 4542 bytes.\n",
      "Extracting data/MNIST/t10k-labels-idx1-ubyte.gz\n",
      "WARNING:tensorflow:From /usr/local/lib/python3.6/dist-packages/tensorflow/contrib/learn/python/learn/datasets/mnist.py:290: DataSet.__init__ (from tensorflow.contrib.learn.python.learn.datasets.mnist) is deprecated and will be removed in a future version.\n",
      "Instructions for updating:\n",
      "Please use alternatives such as official/mnist/dataset.py from tensorflow/models.\n"
     ]
    }
   ],
   "source": [
    "from tensorflow.examples.tutorials.mnist import input_data\n",
    "data = input_data.read_data_sets('data/MNIST/', one_hot=True)"
   ]
  },
  {
   "cell_type": "markdown",
   "metadata": {
    "colab_type": "text",
    "id": "C-wUTlvMeaHD"
   },
   "source": [
    "The MNIST data-set has now been loaded and consists of 70.000 images and class-numbers for the images. The data-set is split into 3 mutually exclusive sub-sets. We will only use the training and test-sets in this tutorial."
   ]
  },
  {
   "cell_type": "code",
   "execution_count": 5,
   "metadata": {
    "colab": {
     "base_uri": "https://localhost:8080/",
     "height": 86
    },
    "colab_type": "code",
    "executionInfo": {
     "elapsed": 11757,
     "status": "ok",
     "timestamp": 1547022780004,
     "user": {
      "displayName": "Kyeong Hwan Kim",
      "photoUrl": "https://lh3.googleusercontent.com/-w0uAFDcbl8M/AAAAAAAAAAI/AAAAAAAAAD4/peltVh4_2BQ/s64/photo.jpg",
      "userId": "18391823257989996047"
     },
     "user_tz": -540
    },
    "id": "F28cXwMIekj0",
    "outputId": "f9dccc33-0dc4-476b-c328-c0ea6b027226"
   },
   "outputs": [
    {
     "name": "stdout",
     "output_type": "stream",
     "text": [
      "Size of :\n",
      "- Training-set : \t\t55000\n",
      "- Validation-set : \t\t5000\n",
      "- Test-set : \t\t\t10000\n"
     ]
    }
   ],
   "source": [
    "print('Size of :')\n",
    "print('- Training-set : \\t\\t{}'.format(data.train.num_examples))\n",
    "print('- Validation-set : \\t\\t{}'.format(data.validation.num_examples))\n",
    "print('- Test-set : \\t\\t\\t{}'.format(data.test.num_examples))"
   ]
  },
  {
   "cell_type": "markdown",
   "metadata": {
    "colab_type": "text",
    "id": "5syaMnfseryN"
   },
   "source": [
    "Copy some of the data-dimensions for convenience."
   ]
  },
  {
   "cell_type": "code",
   "execution_count": 0,
   "metadata": {
    "colab": {},
    "colab_type": "code",
    "id": "q3MVn6UWevDC"
   },
   "outputs": [],
   "source": [
    "# The number of pixels in each dimension of an image.\n",
    "img_size = 28\n",
    "\n",
    "# the images are stored in one-dimensional arrays of this length.\n",
    "img_size_flat = data.train.images[0].shape[0]\n",
    "\n",
    "# Tuple with height and width of images used to reshape arrays.\n",
    "img_shape = (28,28)\n",
    "\n",
    "# Number of classes, one class for each of 10 digits.\n",
    "num_classes = 10\n",
    "\n",
    "# Number of colour channels for the images : 1 channel for gray-scale.\n",
    "num_channels = 1"
   ]
  },
  {
   "cell_type": "markdown",
   "metadata": {
    "colab_type": "text",
    "id": "kPOI3xrWe39z"
   },
   "source": [
    "## Helper-function for plotting images\n",
    "\n",
    "Function used to plot 9 images in a 3x3 grid, and writing the true and predicted classes below each image."
   ]
  },
  {
   "cell_type": "code",
   "execution_count": 0,
   "metadata": {
    "colab": {},
    "colab_type": "code",
    "id": "ISMfdG4bfPAs"
   },
   "outputs": [],
   "source": [
    "def plot_images(images, cls_true, cls_pred=None):\n",
    "  assert len(images)== len(cls_true) ==9\n",
    "  \n",
    "  # Create figure with 3x3 subplots.\n",
    "  fig, axes = plt.subplots(3,3)\n",
    "  fig.subplots_adjust(hspace=0.3, wspace=0.3)\n",
    "  \n",
    "  for i , ax in enumerate(axes.flat):\n",
    "    # Plot image.\n",
    "    ax.imshow( images[i].reshape(img_shape), cmap='binary')\n",
    "    \n",
    "    # Show true and predicted classes.\n",
    "    if cls_pred is None:\n",
    "      xlabel = 'True : {0}'.format(cls_true[i])\n",
    "    else:\n",
    "      xlabel = 'True : {0}, Pred : {1}'.format(cls_true[i],\n",
    "                                               cls_pred[i])\n",
    "      \n",
    "    # Show the classes as the label on the x-axis.\n",
    "    ax.set_xlabel(xlabel)\n",
    "    \n",
    "    # Remove ticks from the plot.\n",
    "    ax.set_xticks([])\n",
    "    ax.set_yticks([])\n",
    "    \n",
    "  # Ensure the plot is shown correctly with multiple plots\n",
    "  # in a single Notebook cell\n",
    "  plt.show()"
   ]
  },
  {
   "cell_type": "markdown",
   "metadata": {
    "colab_type": "text",
    "id": "jp2RhZ-3fa3_"
   },
   "source": [
    "### Plot a few images to see if data is correct"
   ]
  },
  {
   "cell_type": "code",
   "execution_count": 8,
   "metadata": {
    "colab": {
     "base_uri": "https://localhost:8080/",
     "height": 263
    },
    "colab_type": "code",
    "executionInfo": {
     "elapsed": 12095,
     "status": "ok",
     "timestamp": 1547022780369,
     "user": {
      "displayName": "Kyeong Hwan Kim",
      "photoUrl": "https://lh3.googleusercontent.com/-w0uAFDcbl8M/AAAAAAAAAAI/AAAAAAAAAD4/peltVh4_2BQ/s64/photo.jpg",
      "userId": "18391823257989996047"
     },
     "user_tz": -540
    },
    "id": "Io_7TmEFgPKc",
    "outputId": "cde7d209-b957-4278-a13c-22f18541ee28"
   },
   "outputs": [
    {
     "data": {
      "image/png": "[encoded data removed]",
      "text/plain": [
       "<matplotlib.figure.Figure at 0x7f47cf8595f8>"
      ]
     },
     "metadata": {
      "tags": []
     },
     "output_type": "display_data"
    }
   ],
   "source": [
    "# Get the first images from the Test-set\n",
    "images = data.test.images[0:9]\n",
    "\n",
    "# Get the true class for those images.\n",
    "cls_true = [np.argmax(label) for label in data.test.labels[0:9]]\n",
    "\n",
    "# Plot the images and labels using our helper-function above.\n",
    "plot_images(images= images, cls_true=cls_true)"
   ]
  },
  {
   "cell_type": "markdown",
   "metadata": {
    "colab_type": "text",
    "id": "LTYr1sz6gUbq"
   },
   "source": [
    "## TensorFlow Graph\n",
    "\n",
    "The entire purpose of TensorFlow is to have a so-called computational graph that can be executed much more efficiently than if the same calculations were to be performed directly in Python. TensorFlow can be more efficient than NumPy because TensorFlow knows the entire computation graph that must be executed, while NumPy only knows the computation of a single mathematical operation at a time.\n",
    "\n",
    "TensorFlow can also automatically calculate the gradients that are needed to optimize the variables of the graph so as to make the model perform better. This is because the graph is a combination of simple mathematical expressions so the gradient of the entire graph can be calculated using the chain-rule for derivatives.\n",
    "\n",
    "TensorFlow can also take advantage of multi-core CPUs as well as GPUs - and Google has even built special chips just for TensorFlow which are called TPUs (Tensor Processing Units) and are even faster than GPUs.\n",
    "\n",
    "A TensorFlow graph consists of the following parts which will be detailed below:\n",
    "\n",
    "* Placeholder variables used for inputting data to the graph.\n",
    "* Variables that are going to be optimized so as to make the convolutional network perform better.\n",
    "* The mathematical formulas for the convolutional network.\n",
    "* A cost measure that can be used to guide the optimization of the variables.\n",
    "* An optimization method which updates the variables.\n",
    "\n",
    "In addition, the TensorFlow graph may also contain various debugging statements e.g. for logging data to be displayed using TensorBoard, which is not covered in this tutorial."
   ]
  },
  {
   "cell_type": "markdown",
   "metadata": {
    "colab_type": "text",
    "id": "SIvDFJkRgoaq"
   },
   "source": [
    "### Helper-functions for creating new variables\n",
    "\n",
    "Functions for creating new TensorFlow variables in the given shape and initializing them with random values. Note that the initialization is not actually done at this point, it is merely being defined in the TensorFlow graph."
   ]
  },
  {
   "cell_type": "code",
   "execution_count": 0,
   "metadata": {
    "colab": {},
    "colab_type": "code",
    "id": "LJhG7gabg1vD"
   },
   "outputs": [],
   "source": [
    "def new_weights(shape):\n",
    "  return tf.Variable( tf.truncated_normal(shape, stddev=0.05) )"
   ]
  },
  {
   "cell_type": "code",
   "execution_count": 0,
   "metadata": {
    "colab": {},
    "colab_type": "code",
    "id": "R4YF9JH-g62h"
   },
   "outputs": [],
   "source": [
    "def new_biases(length):\n",
    "  return tf.Variable( tf.constant(0.05, shape = [length] ) )"
   ]
  },
  {
   "cell_type": "markdown",
   "metadata": {
    "colab_type": "text",
    "id": "ZPq5ut3KhJFm"
   },
   "source": [
    "### Helper-function for creating a new Convolutional Layer\n",
    "\n",
    "This function creates a new convolutional layer in the computational graph for TensorFlow. Nothing is actually calculated here, we are just adding the mathematical formulas to the TensorFlow graph.\n",
    "\n",
    "It is assumed that the input is a 4-dim tensor with the following dimensions:\n",
    "\n",
    "1. Image number.\n",
    "2. Y-axis of each image.\n",
    "3. X-axis of each image.\n",
    "4. Channels of each image.\n",
    "\n",
    "Note that the input channels may either be colour-channels, or it may be filter-channels if the input is produced from a previous convolutional layer.\n",
    "\n",
    "The output is another 4-dim tensor with the following dimensions:\n",
    "\n",
    "1. Image number, same as input.\n",
    "2. Y-axis of each image. If 2x2 pooling is used, then the height and width of the input images is divided by 2.\n",
    "3. X-axis of each image. Ditto.\n",
    "4. Channels produced by the convolutional filters."
   ]
  },
  {
   "cell_type": "code",
   "execution_count": 0,
   "metadata": {
    "colab": {},
    "colab_type": "code",
    "id": "b95dOBGzhQiE"
   },
   "outputs": [],
   "source": [
    "def new_conv_layer(input,                # The previous layer. \n",
    "                   num_input_channels,   # Num. channels in prev. layer.\n",
    "                   filter_size,          # Width and height of each filter.\n",
    "                   num_filters,          # Num. of filters.\n",
    "                   use_pooling=True):    # Use 2x2 max-pooling.\n",
    "                 \n",
    "  # Shape of the filter-weights for the convolution.\n",
    "  # This format is determined by the TensforFlow API.\n",
    "  shape = [filter_size, filter_size, num_input_channels, num_filters]\n",
    "  \n",
    "  # Create new weights aka. filters with the given shape.\n",
    "  weights = new_weights(shape = shape)\n",
    "  \n",
    "  # Create new biases, one for each filter.\n",
    "  biases  = new_biases(length = num_filters)\n",
    "  \n",
    "  # Create the TensorFlow operation for convolution.\n",
    "  # Note the strides are set to 1 in all dimension.\n",
    "  # The first and last stride must always be 1,\n",
    "  # because the first is for the image-number and \n",
    "  # the last is for the input-channel.\n",
    "  # But e.g. strides = [1,2,2,1] would mean that the filter\n",
    "  # is moved 2 pixels across the x- and y-axis for the image.\n",
    "  # The padding is set to 'SAME' which means the input image\n",
    "  # is padded with zeroes so the size of the output is the same.\n",
    "  layer = tf.nn.conv2d(input   = input, \n",
    "                       filter  = weights,\n",
    "                       strides = [1,1,1,1],\n",
    "                       padding = 'SAME')\n",
    "  \n",
    "  # Add the biases to the results of the convolution.\n",
    "  # A bias-value is added to each filter-channel.\n",
    "  layer += biases\n",
    "  \n",
    "  # Use pooling to down-sample the image resolution?\n",
    "  if use_pooling :\n",
    "    # This is 2x2 max-pooling, which means that we\n",
    "    # consider 2x2 windows and select the largest value \n",
    "    # in each window. Then we move 2 pixcels to the next window.\n",
    "    layer = tf.nn.max_pool(value   = layer,\n",
    "                           ksize   = [1,2,2,1],\n",
    "                           strides = [1,2,2,1],\n",
    "                           padding = 'SAME')\n",
    "    \n",
    "  # Rectified Linear Unit (ReLU).\n",
    "  # It calculates max(x,0) for each input pixcel x.\n",
    "  # This adds some non-linearity to the formula and allows us\n",
    "  # to learn more complicated functions.\n",
    "  layer = tf.nn.relu(layer)\n",
    "  \n",
    "  # Note that ReLU is normally executed before the pooling,\n",
    "  # but since relu(max_pool(x)) == max_pool(relu(x)), we can\n",
    "  # save 75% of the relu-operations by max-pooling first.\n",
    "  \n",
    "  # We return both thre resulting layer and the filter-weights\n",
    "  # because we will plot the weights later.\n",
    "  return layer, weights"
   ]
  },
  {
   "cell_type": "markdown",
   "metadata": {
    "colab_type": "text",
    "id": "nYg8t4PQpoBF"
   },
   "source": [
    "### Helper-function for flattening a layer\n",
    "\n",
    "A convolutional layer produces an output tensor with 4 dimensions. We will add fully-connected layers after the convolution layers, so we need to reduce the 4-dim tensor to 2-dim which can be used as input to the fully-connected layer."
   ]
  },
  {
   "cell_type": "code",
   "execution_count": 0,
   "metadata": {
    "colab": {},
    "colab_type": "code",
    "id": "iJR-DicfqaKn"
   },
   "outputs": [],
   "source": [
    "def flatten_layer(layer):\n",
    "  # Get the shape of the input layer.\n",
    "  layer_shape = layer.get_shape()\n",
    "  \n",
    "  # The shape of the input layer is assumed to be:\n",
    "  # layer_shape == [num_images, img_height, img_width, num_channels]\n",
    "  \n",
    "  # The number of features is : img_height * img_width * num_channels\n",
    "  # We can use a function from TensorFlow to calculate this.\n",
    "  num_features = layer_shape[1:4].num_elements()\n",
    "  \n",
    "  # Reshape the layer to [num_images, num_features]\n",
    "  # Note that we just set the size of the second dimension\n",
    "  # to num_featuers and the size of the first dimension to -1\n",
    "  # which means the size in that dimension to -1\n",
    "  # so the total size of the tensor is unchanged from the reshaping\n",
    "  layer_flat = tf.reshape(layer, [-1, num_features])\n",
    "  \n",
    "  # The shape of the flattened layer is now:\n",
    "  # [num_images, img_height * img_width * num_channels]\n",
    "  \n",
    "  # Return both the flattened layer and the number of features.\n",
    "  return layer_flat, num_features\n",
    "  "
   ]
  },
  {
   "cell_type": "markdown",
   "metadata": {
    "colab_type": "text",
    "id": "Pdxsv_zt3hVi"
   },
   "source": [
    "### Helper-function for creating a new Fully-Connected Layer\n",
    "\n",
    "This function creates a new fully-connected layer in the computational graph for TensorFlow. Nothing is actually calculated here, we are just adding the mathematical formaulas to the TensorFlow graph.\n",
    "\n",
    "It is assumed that the input is a 2-dim tensor of shape `[num_images, num_inputs]`. The output is a 2-dim tensor of shape `[num_images, num_outputs]`."
   ]
  },
  {
   "cell_type": "code",
   "execution_count": 0,
   "metadata": {
    "colab": {},
    "colab_type": "code",
    "id": "bcQxI8ja4M7O"
   },
   "outputs": [],
   "source": [
    "def new_fc_layer(input,             # The previous layer.\n",
    "                 num_inputs,        # Num. inputs from prev. layer\n",
    "                 num_outputs,       # Num. outputs. \n",
    "                 use_relu = True) : # Use Rectified Linear Uni (ReLU)\n",
    "  \n",
    "  # Create new weights and biases.\n",
    "  weights = new_weights(shape = [num_inputs, num_outputs])\n",
    "  biases  = new_biases( length = num_outputs)\n",
    "  \n",
    "  # Calculate the layer as the matrix multiplication of \n",
    "  # the input and weights, and then add the bias-values.\n",
    "  layer = tf.matmul(input, weights) + biases\n",
    "  \n",
    "  #Use ReLU?\n",
    "  if use_relu:\n",
    "    layer = tf.nn.relu(layer)\n",
    "  \n",
    "  return layer"
   ]
  },
  {
   "cell_type": "markdown",
   "metadata": {
    "colab_type": "text",
    "id": "nHL4QjKu5jar"
   },
   "source": [
    "### Placeholder variables\n",
    "\n",
    "Placeholder variables serve as the input to the TensorFlow computational graph that we may change each time we execute the graph. We call this feeding the placeholder variables and it is demonstrated further below.\n",
    "\n",
    "First we define the placeholder variable for the input images. This allows us to change the images that are input to the TensorFlow graph. This is a so-called tensor, which just means that it is a multi-dimensional vector or matrix. The data-type is set to `float32` and the shape is set to `[None, img_size_flat]`, where `None` means that the tensor may hold an arbitrary number of images with each image being a vector of length `img_size_flat`."
   ]
  },
  {
   "cell_type": "code",
   "execution_count": 0,
   "metadata": {
    "colab": {},
    "colab_type": "code",
    "id": "IMBOx6JN5tNU"
   },
   "outputs": [],
   "source": [
    "x = tf.placeholder(tf.float32, shape = [None, img_size_flat],\n",
    "                   name = 'x')"
   ]
  },
  {
   "cell_type": "markdown",
   "metadata": {
    "colab_type": "text",
    "id": "kycnqcA1564k"
   },
   "source": [
    "The convolutional layers expect x to be encoded as a 4-dim tensor so we have to reshape it so its shape is instead [num_images, img_height, img_width, num_channels]. Note that img_height == img_width == img_size and num_images can be inferred automatically by using -1 for the size of the first dimension. So the reshape operation is:\n",
    "\n"
   ]
  },
  {
   "cell_type": "code",
   "execution_count": 0,
   "metadata": {
    "colab": {},
    "colab_type": "code",
    "id": "AAuVCRUT6Gyd"
   },
   "outputs": [],
   "source": [
    "x_image = tf.reshape( x , [-1, img_size, img_size, num_channels] )"
   ]
  },
  {
   "cell_type": "markdown",
   "metadata": {
    "colab_type": "text",
    "id": "WkU3vEbA6Mpn"
   },
   "source": [
    "Next we have the placeholder variable for the true labels associated with the images that were input in the placeholder variable `x`. The shape of this placeholder variable is `[None, num_classes]` which means it may hold an arbitrary number of labels and each label is a vector of length `num_classes` which is 10 in this case."
   ]
  },
  {
   "cell_type": "code",
   "execution_count": 0,
   "metadata": {
    "colab": {},
    "colab_type": "code",
    "id": "YMI0LNcg7SgZ"
   },
   "outputs": [],
   "source": [
    "y_true = tf.placeholder(tf.float32, shape=[None, num_classes],\n",
    "                        name='y_true')"
   ]
  },
  {
   "cell_type": "markdown",
   "metadata": {
    "colab_type": "text",
    "id": "uo1XNj7L7d3L"
   },
   "source": [
    "We could also have a placeholder variable for the class-number, but we will instead calculate it using argmax. Note that this is a TensorFlow operator so nothing is calculated at this point."
   ]
  },
  {
   "cell_type": "code",
   "execution_count": 0,
   "metadata": {
    "colab": {},
    "colab_type": "code",
    "id": "yZYiZ3we7ikR"
   },
   "outputs": [],
   "source": [
    "y_true_cls = tf.argmax(y_true, axis=1)"
   ]
  },
  {
   "cell_type": "markdown",
   "metadata": {
    "colab_type": "text",
    "id": "xwzLdNTi7m38"
   },
   "source": [
    "### Convolutional Layer 1\n",
    "\n",
    "Create the first convolutional layer. It takes `x_image` as input and creates `num_filters1` different filters, each having width and height equal to `filter_size1`. Finally we wish to down-sample the image so it is half the size by using 2x2 max-pooling."
   ]
  },
  {
   "cell_type": "code",
   "execution_count": 0,
   "metadata": {
    "colab": {},
    "colab_type": "code",
    "id": "pbHe9Xe57yw8"
   },
   "outputs": [],
   "source": [
    "layer_conv1, weights_conv1 = new_conv_layer(input= x_image,\n",
    "                                            num_input_channels = num_channels,\n",
    "                                            filter_size = filter_size1,\n",
    "                                            num_filters = num_filters1,\n",
    "                                            use_pooling = True)"
   ]
  },
  {
   "cell_type": "markdown",
   "metadata": {
    "colab_type": "text",
    "id": "TTGWodZ-9b0a"
   },
   "source": [
    "Check the shape of the tensor that will be output by the convolutional layer. It is (?, 14, 14, 16) which means that there is an arbitrary number of images (this is the ?), each image is 14 pixels wide and 14 pixels high, and there are 16 different channels, one channel for each of the filters."
   ]
  },
  {
   "cell_type": "code",
   "execution_count": 19,
   "metadata": {
    "colab": {
     "base_uri": "https://localhost:8080/",
     "height": 35
    },
    "colab_type": "code",
    "executionInfo": {
     "elapsed": 12612,
     "status": "ok",
     "timestamp": 1547022780971,
     "user": {
      "displayName": "Kyeong Hwan Kim",
      "photoUrl": "https://lh3.googleusercontent.com/-w0uAFDcbl8M/AAAAAAAAAAI/AAAAAAAAAD4/peltVh4_2BQ/s64/photo.jpg",
      "userId": "18391823257989996047"
     },
     "user_tz": -540
    },
    "id": "_CahRzg09gtH",
    "outputId": "79806768-f546-46c5-d18b-96bcc29aa231"
   },
   "outputs": [
    {
     "data": {
      "text/plain": [
       "<tf.Tensor 'Relu:0' shape=(?, 14, 14, 16) dtype=float32>"
      ]
     },
     "execution_count": 19,
     "metadata": {
      "tags": []
     },
     "output_type": "execute_result"
    }
   ],
   "source": [
    "layer_conv1"
   ]
  },
  {
   "cell_type": "markdown",
   "metadata": {
    "colab_type": "text",
    "id": "K3WBpMSk-Rv4"
   },
   "source": [
    "### Convolutional Layer 2\n",
    "\n",
    "Create the second convolutional layer, which takes as input the output from the first convolutional layer. The number of input channels corresponds to the number of filters in the first convolutional layer."
   ]
  },
  {
   "cell_type": "code",
   "execution_count": 0,
   "metadata": {
    "colab": {},
    "colab_type": "code",
    "id": "rPEp8UF3-UPd"
   },
   "outputs": [],
   "source": [
    "layer_conv2, weights_conv2 = new_conv_layer(input = layer_conv1, \n",
    "                                            num_input_channels = num_filters1,\n",
    "                                            filter_size = filter_size2,\n",
    "                                            num_filters = num_filters2,\n",
    "                                            use_pooling = True)"
   ]
  },
  {
   "cell_type": "markdown",
   "metadata": {
    "colab_type": "text",
    "id": "iuXpsxu6-oJ3"
   },
   "source": [
    "Check the shape of the tensor that will be output from this convolutional layer. The shape is (?, 7, 7, 36) where the ? again means that there is an arbitrary number of images, with each image having width and height of 7 pixels, and there are 36 channels, one for each filter."
   ]
  },
  {
   "cell_type": "code",
   "execution_count": 21,
   "metadata": {
    "colab": {
     "base_uri": "https://localhost:8080/",
     "height": 35
    },
    "colab_type": "code",
    "executionInfo": {
     "elapsed": 12602,
     "status": "ok",
     "timestamp": 1547022780977,
     "user": {
      "displayName": "Kyeong Hwan Kim",
      "photoUrl": "https://lh3.googleusercontent.com/-w0uAFDcbl8M/AAAAAAAAAAI/AAAAAAAAAD4/peltVh4_2BQ/s64/photo.jpg",
      "userId": "18391823257989996047"
     },
     "user_tz": -540
    },
    "id": "1hLnaDtJ-eVr",
    "outputId": "4852bdc9-c94f-46f6-f339-fe79de09b5db"
   },
   "outputs": [
    {
     "data": {
      "text/plain": [
       "<tf.Tensor 'Relu_1:0' shape=(?, 7, 7, 36) dtype=float32>"
      ]
     },
     "execution_count": 21,
     "metadata": {
      "tags": []
     },
     "output_type": "execute_result"
    }
   ],
   "source": [
    "layer_conv2"
   ]
  },
  {
   "cell_type": "markdown",
   "metadata": {
    "colab_type": "text",
    "id": "BhxYLqkj_XgZ"
   },
   "source": [
    "### Flatten Layer\n",
    "\n",
    "The convolutional layers output 4-dim tensors. We now wish to use these as input in a fully-connected network, which requires for the tensors to be reshaped or flattened to 2-dim tensors. "
   ]
  },
  {
   "cell_type": "code",
   "execution_count": 0,
   "metadata": {
    "colab": {},
    "colab_type": "code",
    "id": "1Drb6Zsz_XXz"
   },
   "outputs": [],
   "source": [
    "layer_flat, num_features = flatten_layer(layer_conv2)"
   ]
  },
  {
   "cell_type": "markdown",
   "metadata": {
    "colab_type": "text",
    "id": "DaPodVlj_XRX"
   },
   "source": [
    "Check that the tensorws now have shape (?, 1764) which means there is an arbitrary number of images which have been flattened to vectors of lengths 1764 each. Note that 1764 = 7 x 7 x 36."
   ]
  },
  {
   "cell_type": "code",
   "execution_count": 23,
   "metadata": {
    "colab": {
     "base_uri": "https://localhost:8080/",
     "height": 35
    },
    "colab_type": "code",
    "executionInfo": {
     "elapsed": 12589,
     "status": "ok",
     "timestamp": 1547022780978,
     "user": {
      "displayName": "Kyeong Hwan Kim",
      "photoUrl": "https://lh3.googleusercontent.com/-w0uAFDcbl8M/AAAAAAAAAAI/AAAAAAAAAD4/peltVh4_2BQ/s64/photo.jpg",
      "userId": "18391823257989996047"
     },
     "user_tz": -540
    },
    "id": "ndRXd6p1CZwr",
    "outputId": "27c1402e-b0d2-45b9-bc17-c90869916c3d"
   },
   "outputs": [
    {
     "data": {
      "text/plain": [
       "<tf.Tensor 'Reshape_1:0' shape=(?, 1764) dtype=float32>"
      ]
     },
     "execution_count": 23,
     "metadata": {
      "tags": []
     },
     "output_type": "execute_result"
    }
   ],
   "source": [
    "layer_flat"
   ]
  },
  {
   "cell_type": "markdown",
   "metadata": {
    "colab_type": "text",
    "id": "nIbJW1uf-ed7"
   },
   "source": [
    "### Flatten Layer 1\n",
    "\n",
    "Add a fully-connected layer to the network. The input is the flattened layer from the previous convolution. The number of neurons or nodes in the fully-connected layer is `fc_size`. ReLU is used so we can learn non-linear relations.\n",
    "\n"
   ]
  },
  {
   "cell_type": "code",
   "execution_count": 0,
   "metadata": {
    "colab": {},
    "colab_type": "code",
    "id": "bnv9oAnt-ekV"
   },
   "outputs": [],
   "source": [
    "layer_fc1 = new_fc_layer(input = layer_flat , \n",
    "                         num_inputs = num_features, \n",
    "                         num_outputs = fc_size,\n",
    "                         use_relu = True)"
   ]
  },
  {
   "cell_type": "markdown",
   "metadata": {
    "colab_type": "text",
    "id": "WyHmFo86CmF6"
   },
   "source": [
    "Check that the output of the fully-connected layer is a tensor with shape (?, 128) where the ? means there is an arbitrary number of images and `fc_size` == 128."
   ]
  },
  {
   "cell_type": "code",
   "execution_count": 25,
   "metadata": {
    "colab": {
     "base_uri": "https://localhost:8080/",
     "height": 35
    },
    "colab_type": "code",
    "executionInfo": {
     "elapsed": 12574,
     "status": "ok",
     "timestamp": 1547022780981,
     "user": {
      "displayName": "Kyeong Hwan Kim",
      "photoUrl": "https://lh3.googleusercontent.com/-w0uAFDcbl8M/AAAAAAAAAAI/AAAAAAAAAD4/peltVh4_2BQ/s64/photo.jpg",
      "userId": "18391823257989996047"
     },
     "user_tz": -540
    },
    "id": "b4BXlhe7-ew9",
    "outputId": "a2744f34-b689-4c18-ad66-a7c7281a6453"
   },
   "outputs": [
    {
     "data": {
      "text/plain": [
       "<tf.Tensor 'Relu_2:0' shape=(?, 128) dtype=float32>"
      ]
     },
     "execution_count": 25,
     "metadata": {
      "tags": []
     },
     "output_type": "execute_result"
    }
   ],
   "source": [
    "layer_fc1"
   ]
  },
  {
   "cell_type": "markdown",
   "metadata": {
    "colab_type": "text",
    "id": "8dzR7kZ8-e3Z"
   },
   "source": [
    "### Fully-Connected Layer 2\n",
    "\n",
    "Add another fully-connected layer that outputs vectors of length 10 for determining which of the 10 classes the input image belongs to. Note that ReLU is not used in this layer."
   ]
  },
  {
   "cell_type": "code",
   "execution_count": 0,
   "metadata": {
    "colab": {},
    "colab_type": "code",
    "id": "DrYPqcBOCuAS"
   },
   "outputs": [],
   "source": [
    "layer_fc2 = new_fc_layer(input = layer_fc1, \n",
    "                         num_inputs = fc_size,\n",
    "                         num_outputs = num_classes,\n",
    "                         use_relu = False)"
   ]
  },
  {
   "cell_type": "code",
   "execution_count": 27,
   "metadata": {
    "colab": {
     "base_uri": "https://localhost:8080/",
     "height": 35
    },
    "colab_type": "code",
    "executionInfo": {
     "elapsed": 12564,
     "status": "ok",
     "timestamp": 1547022780983,
     "user": {
      "displayName": "Kyeong Hwan Kim",
      "photoUrl": "https://lh3.googleusercontent.com/-w0uAFDcbl8M/AAAAAAAAAAI/AAAAAAAAAD4/peltVh4_2BQ/s64/photo.jpg",
      "userId": "18391823257989996047"
     },
     "user_tz": -540
    },
    "id": "Tlq16hn-C3mh",
    "outputId": "becb270e-a9b4-4f30-f7ab-3dd69bc27a4b"
   },
   "outputs": [
    {
     "data": {
      "text/plain": [
       "<tf.Tensor 'add_3:0' shape=(?, 10) dtype=float32>"
      ]
     },
     "execution_count": 27,
     "metadata": {
      "tags": []
     },
     "output_type": "execute_result"
    }
   ],
   "source": [
    "layer_fc2"
   ]
  },
  {
   "cell_type": "markdown",
   "metadata": {
    "colab_type": "text",
    "id": "LuLWteucC4Tq"
   },
   "source": [
    "### Predicted Class\n",
    "\n",
    "The second fully-connected layer estimates how likely it is that the input image belongs to each of the 10 classes. However, these estimates are a bit rough and difficult to interpret because the numbers may be very small or large, so we want to normalize them so that each element is limited between zero and one and the 10 elements sum to one. This is calculated using the so-called **softmax** function and the result is stored in `y_pred`."
   ]
  },
  {
   "cell_type": "code",
   "execution_count": 0,
   "metadata": {
    "colab": {},
    "colab_type": "code",
    "id": "ZwNKPPxGC9VA"
   },
   "outputs": [],
   "source": [
    "y_pred = tf.nn.softmax( layer_fc2 )"
   ]
  },
  {
   "cell_type": "markdown",
   "metadata": {
    "colab_type": "text",
    "id": "WeuA5EPMDmFy"
   },
   "source": [
    "The class-number is the index of the largest element."
   ]
  },
  {
   "cell_type": "code",
   "execution_count": 0,
   "metadata": {
    "colab": {},
    "colab_type": "code",
    "id": "nOQUBN_xDpnW"
   },
   "outputs": [],
   "source": [
    "y_pred_cls = tf.argmax(y_pred, axis=1)"
   ]
  },
  {
   "cell_type": "markdown",
   "metadata": {
    "colab_type": "text",
    "id": "Y0W6er2aDrsZ"
   },
   "source": [
    "### Cost-function to be optimized\n",
    "\n",
    "To make the model better at classifying the input images, we must somehow change the variables for all the network layers. To do this we first need to know how well the model currently performs by comparing the predicted output of the model `y_pred` to the desired output `y_true`.\n",
    "\n",
    "The **cross-entropy** is a performance measure used in classification. The cross-entropy is a continuous function that is always positive and if the predicted output of the model exactly matches the desired output then the cross-entropy equals zero. The goal of optimization is therefore to minimize the cross-entropy so it gets as close to zero as possible by changing the variables of the network layers.\n",
    "\n",
    "TensorFlow has a built-in function for calculating the cross-entropy. Note that the function calculates the softmax internally so we must use the output of `layer_fc2` directly rather than `y_pred` which has already had the softmax applied."
   ]
  },
  {
   "cell_type": "code",
   "execution_count": 0,
   "metadata": {
    "colab": {},
    "colab_type": "code",
    "id": "Q3hGaKHbDxfM"
   },
   "outputs": [],
   "source": [
    "cross_entropy = tf.nn.softmax_cross_entropy_with_logits_v2( logits = layer_fc2,\n",
    "                                                         labels = y_true)"
   ]
  },
  {
   "cell_type": "markdown",
   "metadata": {
    "colab_type": "text",
    "id": "InoFac9NEcyr"
   },
   "source": [
    "We have now calculated the cross-entropy for each of the image classifications so we have a measure of how well the model performs on each image individually. But in order to use the cross-entropy to guide the optimization of the model's variables we need a single scalar value, so we simply take the average of the cross-entropy for all the image classifications."
   ]
  },
  {
   "cell_type": "code",
   "execution_count": 0,
   "metadata": {
    "colab": {},
    "colab_type": "code",
    "id": "4PbFeEKkEcvz"
   },
   "outputs": [],
   "source": [
    "cost = tf.reduce_mean(cross_entropy)"
   ]
  },
  {
   "cell_type": "markdown",
   "metadata": {
    "colab_type": "text",
    "id": "WhAywttmEcsu"
   },
   "source": [
    "### Optimization Method\n",
    "\n",
    "Now that we have a cost measure that must be minimized, we can then create an optimizer. In this case it is the `AdamOptimizer` which is an advanced form of Gradient Descent.\n",
    "\n",
    "Note that optimization is not performed at this point. In fact, nothing is calculated at all, we just add the optimizer-object to the TensorFlow graph for later execution."
   ]
  },
  {
   "cell_type": "code",
   "execution_count": 0,
   "metadata": {
    "colab": {},
    "colab_type": "code",
    "id": "eTwrN3YdEcpt"
   },
   "outputs": [],
   "source": [
    "optimizer = tf.train.AdamOptimizer(learning_rate=1e-4).minimize(cost)"
   ]
  },
  {
   "cell_type": "markdown",
   "metadata": {
    "colab_type": "text",
    "id": "zMlb4s8TEcme"
   },
   "source": [
    "### Performance Measures\n",
    "\n",
    "We need a few more performance measures to display the progress to the user.\n",
    "\n",
    "This is a vector of booleans whether the predicted class equals the true class of each image."
   ]
  },
  {
   "cell_type": "code",
   "execution_count": 0,
   "metadata": {
    "colab": {},
    "colab_type": "code",
    "id": "4VUxb61VEcim"
   },
   "outputs": [],
   "source": [
    "correct_prediction = tf.equal(y_pred_cls , y_true_cls)"
   ]
  },
  {
   "cell_type": "markdown",
   "metadata": {
    "colab_type": "text",
    "id": "UHTIBMiCFFLY"
   },
   "source": [
    "This calculates the classification accuracy by first type-casting the vector of booleans to floats, so that False becomes 0 and True becomes 1, and then calculating the average of these numbers."
   ]
  },
  {
   "cell_type": "code",
   "execution_count": 0,
   "metadata": {
    "colab": {},
    "colab_type": "code",
    "id": "xHSyeJncEZZ0"
   },
   "outputs": [],
   "source": [
    "accuracy = tf.reduce_mean( tf.cast(correct_prediction, tf.float32) )"
   ]
  },
  {
   "cell_type": "markdown",
   "metadata": {
    "colab_type": "text",
    "id": "TCWhrBYNFPuU"
   },
   "source": [
    "## TensorFlow Run"
   ]
  },
  {
   "cell_type": "markdown",
   "metadata": {
    "colab_type": "text",
    "id": "7uXBkBn4FWZd"
   },
   "source": [
    "### Create TensorFlow session\n",
    "\n",
    "Once the TensorFlow graph has been created, we have to create a TensorFlow session which is used to execute the graph."
   ]
  },
  {
   "cell_type": "code",
   "execution_count": 0,
   "metadata": {
    "colab": {},
    "colab_type": "code",
    "id": "4C0ZsJFbFTDJ"
   },
   "outputs": [],
   "source": [
    "session = tf.Session()"
   ]
  },
  {
   "cell_type": "markdown",
   "metadata": {
    "colab_type": "text",
    "id": "lWEkyyjcFUb2"
   },
   "source": [
    "### Initialize variables\n",
    "\n",
    "\n",
    "The variables for `weights` and `biases` must be initialized before we start optimizing them."
   ]
  },
  {
   "cell_type": "code",
   "execution_count": 0,
   "metadata": {
    "colab": {},
    "colab_type": "code",
    "id": "UcTnL-roFUgB"
   },
   "outputs": [],
   "source": [
    "session.run(tf.global_variables_initializer() )"
   ]
  },
  {
   "cell_type": "markdown",
   "metadata": {
    "colab_type": "text",
    "id": "m6NFDaw4FUoW"
   },
   "source": [
    "### Helper-function to perform optimization iterations\n",
    "\n",
    "There are 55,000 images in the training-set. It takes a long time to calculate the gradient of the model using all these images. We therefore only use a small batch of images in each iteration of the optimizer.\n",
    "\n",
    "If your computer crashes or becomes very slow because you run out of RAM, then you may try and lower this number, but you may then need to perform more optimization iterations."
   ]
  },
  {
   "cell_type": "code",
   "execution_count": 0,
   "metadata": {
    "colab": {},
    "colab_type": "code",
    "id": "PG0vtF6XFUry"
   },
   "outputs": [],
   "source": [
    "train_batch_size = 64"
   ]
  },
  {
   "cell_type": "markdown",
   "metadata": {
    "colab_type": "text",
    "id": "fdX1KN7fF9qP"
   },
   "source": [
    "Function for performing a number of optimization iterations so as to gradually improve the variables of the network layers. In each iteration, a new batch of data is selected from the training-set and then TensorFlow executes the optimizer using those training samples.  The progress is printed every 100 iterations."
   ]
  },
  {
   "cell_type": "code",
   "execution_count": 0,
   "metadata": {
    "colab": {},
    "colab_type": "code",
    "id": "iAVRjZHeFUvA"
   },
   "outputs": [],
   "source": [
    "#Counter for total number of iterations performed so far.\n",
    "total_iterations = 0\n",
    "\n",
    "def optimize(num_iterations):\n",
    "  # Ensure we update the global variable rather than\n",
    "  # a local copy.\n",
    "  global total_iterations\n",
    "  \n",
    "  # Start-time used for printing time-usage below.\n",
    "  start_time = time.time()\n",
    "  \n",
    "  for i in range(total_iterations, \n",
    "                 total_iterations + num_iterations):\n",
    "    \n",
    "    # Get a batch of training examples.\n",
    "    # x_batch now holds a batch of images and\n",
    "    # y_true batch are the true labels for those images.\n",
    "    x_batch, y_true_batch = data.train.next_batch(batch_size= train_batch_size)\n",
    "    \n",
    "    # Put the batch into a dict with the proper names\n",
    "    # for placeholder variables in the TensorFlow graph.\n",
    "    feed_dict_train = { x : x_batch,\n",
    "                        y_true : y_true_batch}\n",
    "    \n",
    "    # Run the optimizer using this batch of training data.\n",
    "    # TensorFlow assigns the variables in feed_dict_train\n",
    "    # to the placeholder variables and then runs the optimizer.\n",
    "    session.run( optimizer, feed_dict = feed_dict_train)\n",
    "    \n",
    "    # Print status every 100 iterations.\n",
    "    if i % 100 == 0:\n",
    "      # Calculate the accuracy on the Training-set.\n",
    "      acc = session.run(accuracy , feed_dict = feed_dict_train)\n",
    "      \n",
    "      # Message for printing.\n",
    "      msg = 'Optimizing Iteration : {0:>6}, Training Accuracy: {1:6.1%}'\n",
    "      \n",
    "      # Print it.\n",
    "      print(msg.format(i+1, acc))\n",
    "      \n",
    "  # Update the total number of iterations performed.\n",
    "  total_iterations += num_iterations\n",
    "  \n",
    "  # Ending time.\n",
    "  end_time = time.time()\n",
    "  \n",
    "  # Difference between start and end-times.\n",
    "  time_dif = end_time - start_time\n",
    "  \n",
    "  # Print the time-usage.\n",
    "  print('Time usage :', str(timedelta(seconds = int(round(time_dif)))) )"
   ]
  },
  {
   "cell_type": "markdown",
   "metadata": {
    "colab_type": "text",
    "id": "46o-QLfWFUzF"
   },
   "source": [
    "### Helper-function to plot example erros"
   ]
  },
  {
   "cell_type": "code",
   "execution_count": 0,
   "metadata": {
    "colab": {},
    "colab_type": "code",
    "id": "7uh9iKvYFVDd"
   },
   "outputs": [],
   "source": [
    "def plot_example_errors(cls_pred, correct):\n",
    "  # This function is called from print_text_accuracy() below.\n",
    "  \n",
    "  # cls_pred is an array of the predicted class-number for\n",
    "  # all images in the Test-set\n",
    "  \n",
    "  # correct is a boolean array whether the predicted class\n",
    "  # is equal to the true class for each image in the Test-set.\n",
    "  \n",
    "  # Negate the boolean array.\n",
    "  incorrect = (correct == False)\n",
    "  \n",
    "  # Get the images from the Test-set that have been \n",
    "  # incorrectly classified\n",
    "  images = data.test.images[incorrect]\n",
    "  \n",
    "  # Get the predicted classed for those images.\n",
    "  cls_pred = cls_pred[incorrect]\n",
    "  \n",
    "  # Get the true classes for those images.\n",
    "  cls_true = [np.argmax(label) for label in data.test.labels[incorrect]]\n",
    "  \n",
    "  # Plot the first 9 images.\n",
    "  plot_images(images = images[0:9],\n",
    "              cls_true = cls_true[0:9],\n",
    "              cls_pred = cls_pred[0:9])"
   ]
  },
  {
   "cell_type": "markdown",
   "metadata": {
    "colab_type": "text",
    "id": "ZJ8xapoQFVIr"
   },
   "source": [
    "### Helper-function to plot confunsion matrix"
   ]
  },
  {
   "cell_type": "code",
   "execution_count": 0,
   "metadata": {
    "colab": {},
    "colab_type": "code",
    "id": "6l2erX8NJZ91"
   },
   "outputs": [],
   "source": [
    "def plot_confusion_matrix(cls_pred):\n",
    "  # This is called from print_test_accuracy() below.\n",
    "  \n",
    "  # cls_pred is an array of the predicted class-number for\n",
    "  # all images in the Test-set\n",
    "  \n",
    "  # Get the true classifications for the Test-set.\n",
    "  cls_true = [np.argmax(label) for label in data.test.labels]\n",
    "  \n",
    "  # Get the confusion matrix using sklearn.\n",
    "  cm = confusion_matrix(y_true = cls_true,\n",
    "                        y_pred = cls_pred )\n",
    "  \n",
    "  # Print the confusion matrix as text\n",
    "  print(cm)\n",
    "  \n",
    "  # Plot the confusion matrix as image.\n",
    "  plt.imshow(cm)\n",
    "  \n",
    "  # Make various adjustments to the plot.\n",
    "  plt.colorbar()\n",
    "  tick_marks = np.arange(num_classes)\n",
    "  plt.xticks(tick_marks, range(num_classes))\n",
    "  plt.yticks(tick_marks, range(num_classes))\n",
    "  plt.xlabel('Predicted')\n",
    "  plt.ylabel('True')\n",
    "  \n",
    "  # Ensure the plot is shown correctly with multiple plots\n",
    "  # in a single Notebook cell.\n",
    "  plt.show()"
   ]
  },
  {
   "cell_type": "markdown",
   "metadata": {
    "colab_type": "text",
    "id": "f-lhZfhrKUse"
   },
   "source": [
    "### Helper-function for showing the performance\n",
    "\n",
    "Function for printing the classification accuracy on the Test-set.\n",
    "\n",
    "It takes a while to compute the classification for all the images in the test-set, that's why the results are re-used by calling the above functions directly from this function, so the classifications don't have to be recalculated by each function.\n",
    "\n",
    "Note that this function can use a lot of computer memory, which is why the test-set is split into smaller batches. If you have little RAM in your computer and it crashes, then you can try and lower the batch-size."
   ]
  },
  {
   "cell_type": "code",
   "execution_count": 0,
   "metadata": {
    "colab": {},
    "colab_type": "code",
    "id": "zIacF24gKUqH"
   },
   "outputs": [],
   "source": [
    "# Split the Test-set into smaller batches of this size.\n",
    "test_batch_size = 256\n",
    "\n",
    "def print_test_accuracy(show_example_errors = False,\n",
    "                        show_confusion_matrix = False):\n",
    "  \n",
    "  # Number of images in the Test-set.\n",
    "  num_test = data.test.num_examples\n",
    "  \n",
    "  # Allocate an array for the predicted classes which \n",
    "  # will be calculated in batches and filled into this array.\n",
    "  cls_pred = np.zeros(shape = num_test, dtype =np.int)\n",
    "  \n",
    "  # Now calculate the predicted classes for the batches.\n",
    "  # We will just iterate through all the batches.\n",
    "  # There might be a more clever and Pythonic way of doing this.\n",
    "  \n",
    "  # The starting index for the next batch is denoted i.\n",
    "  i = 0\n",
    "  \n",
    "  while i < num_test:\n",
    "    # The ending index for the next batch is denoted j.\n",
    "    j = min(i + test_batch_size, num_test)\n",
    "    \n",
    "    # Get the images from the Test-set between index i and j.\n",
    "    images = data.test.images[i:j, :]\n",
    "    \n",
    "    # Get the associated labels.\n",
    "    labels = data.test.labels[i:j, :]\n",
    "    \n",
    "    # Create a feed-dict with these images and labels.\n",
    "    feed_dict = {x : images,\n",
    "                 y_true : labels}\n",
    "    \n",
    "    # Calculate the predicted class using TensorFlow.\n",
    "    cls_pred[i:j] = session.run(y_pred_cls, feed_dict = feed_dict)\n",
    "    \n",
    "    # Set the start-index for the next batch to the\n",
    "    # end-index of the current batch.\n",
    "    i = j\n",
    "    \n",
    "  # Convenience variable for the true class-numbers of the test-set.\n",
    "  cls_true = [np.argmax(label) for label in data.test.labels]\n",
    "  \n",
    "  # Create a boolean array whether each image is correctly classified.\n",
    "  correct = (cls_pred == cls_true)\n",
    "  \n",
    "  # Calculate the number of correctly classified images.\n",
    "  # When summing a boolean array, False means 0 and True means 1\n",
    "  correct_sum = correct.sum()\n",
    "  \n",
    "  # Classification accuracy is the number of correctly classified \n",
    "  # images divided by the total number of images in the Test-set\n",
    "  acc = float(correct_sum) / num_test\n",
    "  \n",
    "  # Print the accuracy.\n",
    "  msg = 'Accuracy on Test-set : {0:.1%} ({1}/{2})'\n",
    "  print(msg.format(acc, correct_sum, num_test))\n",
    "  \n",
    "  # Plot some examples of mis-classifications, if desired.\n",
    "  if show_example_errors:\n",
    "    print('Example errors: ')\n",
    "    plot_example_errors(cls_pred = cls_pred, correct = correct)\n",
    "    \n",
    "  # Plot the confusion matrix, if desired.\n",
    "  if show_confusion_matrix:\n",
    "    print('Confusion Matrix: ')\n",
    "    plot_confusion_matrix(cls_pred=cls_pred)\n",
    "  "
   ]
  },
  {
   "cell_type": "markdown",
   "metadata": {
    "colab_type": "text",
    "id": "iLkxHLvGsFf3"
   },
   "source": [
    "## Performance before any optimization\n",
    "\n",
    "The accuracy on the test-set is very low because the model variables have only been initialized and not optimized at all, so it just classifies the images randomly."
   ]
  },
  {
   "cell_type": "code",
   "execution_count": 43,
   "metadata": {
    "colab": {
     "base_uri": "https://localhost:8080/",
     "height": 35
    },
    "colab_type": "code",
    "executionInfo": {
     "elapsed": 4381,
     "status": "ok",
     "timestamp": 1547022803857,
     "user": {
      "displayName": "Kyeong Hwan Kim",
      "photoUrl": "https://lh3.googleusercontent.com/-w0uAFDcbl8M/AAAAAAAAAAI/AAAAAAAAAD4/peltVh4_2BQ/s64/photo.jpg",
      "userId": "18391823257989996047"
     },
     "user_tz": -540
    },
    "id": "t_tGZgaasFeC",
    "outputId": "dcb19e13-70f6-47e4-c73a-1c83afd64655"
   },
   "outputs": [
    {
     "name": "stdout",
     "output_type": "stream",
     "text": [
      "Accuracy on Test-set : 11.2% (1125/10000)\n"
     ]
    }
   ],
   "source": [
    "print_test_accuracy()"
   ]
  },
  {
   "cell_type": "markdown",
   "metadata": {
    "colab_type": "text",
    "id": "XxxPb_r6sFaP"
   },
   "source": [
    "## Performance after 1 optimization iteration\n",
    "\n",
    "The classification accuracy does not improve much from just 1 optimization iteration, because the learning-rate for the optimizer is set very low."
   ]
  },
  {
   "cell_type": "code",
   "execution_count": 44,
   "metadata": {
    "colab": {
     "base_uri": "https://localhost:8080/",
     "height": 52
    },
    "colab_type": "code",
    "executionInfo": {
     "elapsed": 3939,
     "status": "ok",
     "timestamp": 1547022803859,
     "user": {
      "displayName": "Kyeong Hwan Kim",
      "photoUrl": "https://lh3.googleusercontent.com/-w0uAFDcbl8M/AAAAAAAAAAI/AAAAAAAAAD4/peltVh4_2BQ/s64/photo.jpg",
      "userId": "18391823257989996047"
     },
     "user_tz": -540
    },
    "id": "TFmMMa24sFW_",
    "outputId": "5521d030-de8e-4759-e02e-6df3158f52a2"
   },
   "outputs": [
    {
     "name": "stdout",
     "output_type": "stream",
     "text": [
      "Optimizing Iteration :      1, Training Accuracy:  14.1%\n",
      "Time usage : 0:00:00\n"
     ]
    }
   ],
   "source": [
    "optimize(num_iterations=1)"
   ]
  },
  {
   "cell_type": "code",
   "execution_count": 45,
   "metadata": {
    "colab": {
     "base_uri": "https://localhost:8080/",
     "height": 35
    },
    "colab_type": "code",
    "executionInfo": {
     "elapsed": 4092,
     "status": "ok",
     "timestamp": 1547022804202,
     "user": {
      "displayName": "Kyeong Hwan Kim",
      "photoUrl": "https://lh3.googleusercontent.com/-w0uAFDcbl8M/AAAAAAAAAAI/AAAAAAAAAD4/peltVh4_2BQ/s64/photo.jpg",
      "userId": "18391823257989996047"
     },
     "user_tz": -540
    },
    "id": "f5b9W1HMsFTb",
    "outputId": "899b01f2-c15b-4ed7-b291-d126e1d12903"
   },
   "outputs": [
    {
     "name": "stdout",
     "output_type": "stream",
     "text": [
      "Accuracy on Test-set : 11.1% (1105/10000)\n"
     ]
    }
   ],
   "source": [
    "print_test_accuracy()"
   ]
  },
  {
   "cell_type": "markdown",
   "metadata": {
    "colab_type": "text",
    "id": "osRHxYdSsFN8"
   },
   "source": [
    "## Performance after 100 optimization iterations\n",
    "\n",
    "After 100 optimization iterations, the model has significantly improved its classification accuracy."
   ]
  },
  {
   "cell_type": "code",
   "execution_count": 46,
   "metadata": {
    "colab": {
     "base_uri": "https://localhost:8080/",
     "height": 35
    },
    "colab_type": "code",
    "executionInfo": {
     "elapsed": 4330,
     "status": "ok",
     "timestamp": 1547022804885,
     "user": {
      "displayName": "Kyeong Hwan Kim",
      "photoUrl": "https://lh3.googleusercontent.com/-w0uAFDcbl8M/AAAAAAAAAAI/AAAAAAAAAD4/peltVh4_2BQ/s64/photo.jpg",
      "userId": "18391823257989996047"
     },
     "user_tz": -540
    },
    "id": "0V7BT4keKUoM",
    "outputId": "d5d8ac9d-c4e7-4ca3-e719-4caee9421e3d"
   },
   "outputs": [
    {
     "name": "stdout",
     "output_type": "stream",
     "text": [
      "Time usage : 0:00:01\n"
     ]
    }
   ],
   "source": [
    "optimize(num_iterations=99) # We already performed 1 iteration above."
   ]
  },
  {
   "cell_type": "code",
   "execution_count": 47,
   "metadata": {
    "colab": {
     "base_uri": "https://localhost:8080/",
     "height": 297
    },
    "colab_type": "code",
    "executionInfo": {
     "elapsed": 4728,
     "status": "ok",
     "timestamp": 1547022805515,
     "user": {
      "displayName": "Kyeong Hwan Kim",
      "photoUrl": "https://lh3.googleusercontent.com/-w0uAFDcbl8M/AAAAAAAAAAI/AAAAAAAAAD4/peltVh4_2BQ/s64/photo.jpg",
      "userId": "18391823257989996047"
     },
     "user_tz": -540
    },
    "id": "4Gc6MUL0KUki",
    "outputId": "8705c7fc-06c4-4a7a-a2a1-4f3183301680"
   },
   "outputs": [
    {
     "name": "stdout",
     "output_type": "stream",
     "text": [
      "Accuracy on Test-set : 66.4% (6637/10000)\n",
      "Example errors: \n"
     ]
    },
    {
     "data": {
      "image/png": "[encoded data removed]",
      "text/plain": [
       "<matplotlib.figure.Figure at 0x7f47c5f31518>"
      ]
     },
     "metadata": {
      "tags": []
     },
     "output_type": "display_data"
    }
   ],
   "source": [
    "print_test_accuracy(show_example_errors=True)"
   ]
  },
  {
   "cell_type": "markdown",
   "metadata": {
    "colab_type": "text",
    "id": "Jdr8stMpKUZz"
   },
   "source": [
    "## Performance after 1000 optimization iterations\n",
    "\n",
    "After 1000 optimization iterations, the model has greatly increased its accuracy on the test-set to more than 90%."
   ]
  },
  {
   "cell_type": "code",
   "execution_count": 48,
   "metadata": {
    "colab": {
     "base_uri": "https://localhost:8080/",
     "height": 190
    },
    "colab_type": "code",
    "executionInfo": {
     "elapsed": 5171,
     "status": "ok",
     "timestamp": 1547022838200,
     "user": {
      "displayName": "Kyeong Hwan Kim",
      "photoUrl": "https://lh3.googleusercontent.com/-w0uAFDcbl8M/AAAAAAAAAAI/AAAAAAAAAD4/peltVh4_2BQ/s64/photo.jpg",
      "userId": "18391823257989996047"
     },
     "user_tz": -540
    },
    "id": "g3lueU2ovtw-",
    "outputId": "063ae3b2-bdd3-4249-e02c-8fe20484a131"
   },
   "outputs": [
    {
     "name": "stdout",
     "output_type": "stream",
     "text": [
      "Optimizing Iteration :    101, Training Accuracy:  62.5%\n",
      "Optimizing Iteration :    201, Training Accuracy:  85.9%\n",
      "Optimizing Iteration :    301, Training Accuracy:  90.6%\n",
      "Optimizing Iteration :    401, Training Accuracy:  87.5%\n",
      "Optimizing Iteration :    501, Training Accuracy:  93.8%\n",
      "Optimizing Iteration :    601, Training Accuracy:  82.8%\n",
      "Optimizing Iteration :    701, Training Accuracy:  89.1%\n",
      "Optimizing Iteration :    801, Training Accuracy:  90.6%\n",
      "Optimizing Iteration :    901, Training Accuracy:  96.9%\n",
      "Time usage : 0:00:05\n"
     ]
    }
   ],
   "source": [
    "optimize(num_iterations=900) # We performed 100 iterations above."
   ]
  },
  {
   "cell_type": "code",
   "execution_count": 49,
   "metadata": {
    "colab": {
     "base_uri": "https://localhost:8080/",
     "height": 297
    },
    "colab_type": "code",
    "executionInfo": {
     "elapsed": 1681,
     "status": "ok",
     "timestamp": 1547022839702,
     "user": {
      "displayName": "Kyeong Hwan Kim",
      "photoUrl": "https://lh3.googleusercontent.com/-w0uAFDcbl8M/AAAAAAAAAAI/AAAAAAAAAD4/peltVh4_2BQ/s64/photo.jpg",
      "userId": "18391823257989996047"
     },
     "user_tz": -540
    },
    "id": "yEH_HxYUvu2d",
    "outputId": "b6a76208-6d40-4c0b-9100-48789bf5f09a"
   },
   "outputs": [
    {
     "name": "stdout",
     "output_type": "stream",
     "text": [
      "Accuracy on Test-set : 93.2% (9317/10000)\n",
      "Example errors: \n"
     ]
    },
    {
     "data": {
      "image/png": "[encoded data removed]",
      "text/plain": [
       "<matplotlib.figure.Figure at 0x7f47cbf97160>"
      ]
     },
     "metadata": {
      "tags": []
     },
     "output_type": "display_data"
    }
   ],
   "source": [
    "print_test_accuracy(show_example_errors=True)"
   ]
  },
  {
   "cell_type": "markdown",
   "metadata": {
    "colab_type": "text",
    "id": "n_wluDC3vuy4"
   },
   "source": [
    "## Performance after 10,000 optimization iterations\n",
    "\n",
    "After 10,000 optimization iterations, the model has a classification accuracy on the test-set of about 99%."
   ]
  },
  {
   "cell_type": "code",
   "execution_count": 50,
   "metadata": {
    "colab": {
     "base_uri": "https://localhost:8080/",
     "height": 1589
    },
    "colab_type": "code",
    "executionInfo": {
     "elapsed": 44710,
     "status": "ok",
     "timestamp": 1547022901955,
     "user": {
      "displayName": "Kyeong Hwan Kim",
      "photoUrl": "https://lh3.googleusercontent.com/-w0uAFDcbl8M/AAAAAAAAAAI/AAAAAAAAAD4/peltVh4_2BQ/s64/photo.jpg",
      "userId": "18391823257989996047"
     },
     "user_tz": -540
    },
    "id": "MtDeG_oFvuvT",
    "outputId": "e2e46180-a2aa-4bc6-82b2-132add691ba2"
   },
   "outputs": [
    {
     "name": "stdout",
     "output_type": "stream",
     "text": [
      "Optimizing Iteration :   1001, Training Accuracy:  95.3%\n",
      "Optimizing Iteration :   1101, Training Accuracy:  93.8%\n",
      "Optimizing Iteration :   1201, Training Accuracy:  95.3%\n",
      "Optimizing Iteration :   1301, Training Accuracy:  93.8%\n",
      "Optimizing Iteration :   1401, Training Accuracy:  92.2%\n",
      "Optimizing Iteration :   1501, Training Accuracy:  93.8%\n",
      "Optimizing Iteration :   1601, Training Accuracy:  98.4%\n",
      "Optimizing Iteration :   1701, Training Accuracy:  93.8%\n",
      "Optimizing Iteration :   1801, Training Accuracy:  93.8%\n",
      "Optimizing Iteration :   1901, Training Accuracy:  92.2%\n",
      "Optimizing Iteration :   2001, Training Accuracy:  93.8%\n",
      "Optimizing Iteration :   2101, Training Accuracy:  96.9%\n",
      "Optimizing Iteration :   2201, Training Accuracy:  95.3%\n",
      "Optimizing Iteration :   2301, Training Accuracy:  96.9%\n",
      "Optimizing Iteration :   2401, Training Accuracy:  96.9%\n",
      "Optimizing Iteration :   2501, Training Accuracy:  95.3%\n",
      "Optimizing Iteration :   2601, Training Accuracy:  96.9%\n",
      "Optimizing Iteration :   2701, Training Accuracy:  98.4%\n",
      "Optimizing Iteration :   2801, Training Accuracy:  92.2%\n",
      "Optimizing Iteration :   2901, Training Accuracy:  96.9%\n",
      "Optimizing Iteration :   3001, Training Accuracy:  95.3%\n",
      "Optimizing Iteration :   3101, Training Accuracy:  96.9%\n",
      "Optimizing Iteration :   3201, Training Accuracy:  95.3%\n",
      "Optimizing Iteration :   3301, Training Accuracy:  95.3%\n",
      "Optimizing Iteration :   3401, Training Accuracy:  96.9%\n",
      "Optimizing Iteration :   3501, Training Accuracy:  96.9%\n",
      "Optimizing Iteration :   3601, Training Accuracy:  96.9%\n",
      "Optimizing Iteration :   3701, Training Accuracy:  98.4%\n",
      "Optimizing Iteration :   3801, Training Accuracy:  98.4%\n",
      "Optimizing Iteration :   3901, Training Accuracy:  95.3%\n",
      "Optimizing Iteration :   4001, Training Accuracy: 100.0%\n",
      "Optimizing Iteration :   4101, Training Accuracy: 100.0%\n",
      "Optimizing Iteration :   4201, Training Accuracy: 100.0%\n",
      "Optimizing Iteration :   4301, Training Accuracy:  96.9%\n",
      "Optimizing Iteration :   4401, Training Accuracy:  98.4%\n",
      "Optimizing Iteration :   4501, Training Accuracy:  95.3%\n",
      "Optimizing Iteration :   4601, Training Accuracy: 100.0%\n",
      "Optimizing Iteration :   4701, Training Accuracy:  95.3%\n",
      "Optimizing Iteration :   4801, Training Accuracy:  98.4%\n",
      "Optimizing Iteration :   4901, Training Accuracy:  98.4%\n",
      "Optimizing Iteration :   5001, Training Accuracy:  95.3%\n",
      "Optimizing Iteration :   5101, Training Accuracy:  98.4%\n",
      "Optimizing Iteration :   5201, Training Accuracy:  98.4%\n",
      "Optimizing Iteration :   5301, Training Accuracy: 100.0%\n",
      "Optimizing Iteration :   5401, Training Accuracy:  98.4%\n",
      "Optimizing Iteration :   5501, Training Accuracy:  98.4%\n",
      "Optimizing Iteration :   5601, Training Accuracy:  98.4%\n",
      "Optimizing Iteration :   5701, Training Accuracy:  98.4%\n",
      "Optimizing Iteration :   5801, Training Accuracy:  98.4%\n",
      "Optimizing Iteration :   5901, Training Accuracy: 100.0%\n",
      "Optimizing Iteration :   6001, Training Accuracy:  98.4%\n",
      "Optimizing Iteration :   6101, Training Accuracy:  96.9%\n",
      "Optimizing Iteration :   6201, Training Accuracy: 100.0%\n",
      "Optimizing Iteration :   6301, Training Accuracy: 100.0%\n",
      "Optimizing Iteration :   6401, Training Accuracy:  98.4%\n",
      "Optimizing Iteration :   6501, Training Accuracy:  96.9%\n",
      "Optimizing Iteration :   6601, Training Accuracy:  98.4%\n",
      "Optimizing Iteration :   6701, Training Accuracy:  98.4%\n",
      "Optimizing Iteration :   6801, Training Accuracy:  96.9%\n",
      "Optimizing Iteration :   6901, Training Accuracy:  98.4%\n",
      "Optimizing Iteration :   7001, Training Accuracy:  98.4%\n",
      "Optimizing Iteration :   7101, Training Accuracy: 100.0%\n",
      "Optimizing Iteration :   7201, Training Accuracy: 100.0%\n",
      "Optimizing Iteration :   7301, Training Accuracy:  96.9%\n",
      "Optimizing Iteration :   7401, Training Accuracy:  98.4%\n",
      "Optimizing Iteration :   7501, Training Accuracy: 100.0%\n",
      "Optimizing Iteration :   7601, Training Accuracy:  96.9%\n",
      "Optimizing Iteration :   7701, Training Accuracy: 100.0%\n",
      "Optimizing Iteration :   7801, Training Accuracy:  96.9%\n",
      "Optimizing Iteration :   7901, Training Accuracy:  98.4%\n",
      "Optimizing Iteration :   8001, Training Accuracy: 100.0%\n",
      "Optimizing Iteration :   8101, Training Accuracy:  96.9%\n",
      "Optimizing Iteration :   8201, Training Accuracy: 100.0%\n",
      "Optimizing Iteration :   8301, Training Accuracy:  98.4%\n",
      "Optimizing Iteration :   8401, Training Accuracy:  98.4%\n",
      "Optimizing Iteration :   8501, Training Accuracy: 100.0%\n",
      "Optimizing Iteration :   8601, Training Accuracy:  98.4%\n",
      "Optimizing Iteration :   8701, Training Accuracy:  98.4%\n",
      "Optimizing Iteration :   8801, Training Accuracy:  98.4%\n",
      "Optimizing Iteration :   8901, Training Accuracy:  96.9%\n",
      "Optimizing Iteration :   9001, Training Accuracy:  96.9%\n",
      "Optimizing Iteration :   9101, Training Accuracy: 100.0%\n",
      "Optimizing Iteration :   9201, Training Accuracy: 100.0%\n",
      "Optimizing Iteration :   9301, Training Accuracy: 100.0%\n",
      "Optimizing Iteration :   9401, Training Accuracy: 100.0%\n",
      "Optimizing Iteration :   9501, Training Accuracy: 100.0%\n",
      "Optimizing Iteration :   9601, Training Accuracy:  96.9%\n",
      "Optimizing Iteration :   9701, Training Accuracy: 100.0%\n",
      "Optimizing Iteration :   9801, Training Accuracy:  96.9%\n",
      "Optimizing Iteration :   9901, Training Accuracy: 100.0%\n",
      "Time usage : 0:00:44\n"
     ]
    }
   ],
   "source": [
    "optimize(num_iterations=9000) # We performed 1000 iterations above."
   ]
  },
  {
   "cell_type": "code",
   "execution_count": 55,
   "metadata": {
    "colab": {
     "base_uri": "https://localhost:8080/",
     "height": 749
    },
    "colab_type": "code",
    "executionInfo": {
     "elapsed": 2035,
     "status": "ok",
     "timestamp": 1547022942930,
     "user": {
      "displayName": "Kyeong Hwan Kim",
      "photoUrl": "https://lh3.googleusercontent.com/-w0uAFDcbl8M/AAAAAAAAAAI/AAAAAAAAAD4/peltVh4_2BQ/s64/photo.jpg",
      "userId": "18391823257989996047"
     },
     "user_tz": -540
    },
    "id": "jCNMBCCQvunb",
    "outputId": "e54f69a6-b5a1-4080-a67b-506646f85619"
   },
   "outputs": [
    {
     "name": "stdout",
     "output_type": "stream",
     "text": [
      "Accuracy on Test-set : 98.6% (9864/10000)\n",
      "Example errors: \n"
     ]
    },
    {
     "data": {
      "image/png": "[encoded data removed]",
      "text/plain": [
       "<matplotlib.figure.Figure at 0x7f47ceb56908>"
      ]
     },
     "metadata": {
      "tags": []
     },
     "output_type": "display_data"
    },
    {
     "name": "stdout",
     "output_type": "stream",
     "text": [
      "Confusion Matrix: \n",
      "[[ 976    0    0    0    0    0    0    1    3    0]\n",
      " [   1 1129    1    0    0    1    1    0    2    0]\n",
      " [   5    3 1007    3    1    0    0    8    5    0]\n",
      " [   1    0    0  997    0    6    0    3    3    0]\n",
      " [   1    0    0    0  972    0    1    3    1    4]\n",
      " [   2    0    0    3    0  881    2    1    2    1]\n",
      " [   8    2    0    0    2    3  942    0    1    0]\n",
      " [   0    1    4    0    0    0    0 1021    1    1]\n",
      " [   4    0    0    2    2    2    0    2  959    3]\n",
      " [   1    5    0    4    7    4    0    7    1  980]]\n"
     ]
    },
    {
     "data": {
      "image/png": "[encoded data removed]",
      "text/plain": [
       "<matplotlib.figure.Figure at 0x7f47c5083198>"
      ]
     },
     "metadata": {
      "tags": []
     },
     "output_type": "display_data"
    }
   ],
   "source": [
    "print_test_accuracy(show_example_errors=True,\n",
    "                    show_confusion_matrix=True)"
   ]
  },
  {
   "cell_type": "markdown",
   "metadata": {
    "colab_type": "text",
    "id": "DIEpkH4Cvukm"
   },
   "source": [
    "## Visualization of Weights and Layers\n",
    "\n",
    "In trying to understand why the convolutional neural network can recognize handwritten digits, we will now visualize the weights of the convolutional filters and the resulting output images."
   ]
  },
  {
   "cell_type": "markdown",
   "metadata": {
    "colab_type": "text",
    "id": "ruD08DJjvuhG"
   },
   "source": [
    "### Helper-function for plotting convolutional weights"
   ]
  },
  {
   "cell_type": "code",
   "execution_count": 0,
   "metadata": {
    "colab": {},
    "colab_type": "code",
    "id": "EpPldt6Ovuep"
   },
   "outputs": [],
   "source": [
    "def plot_conv_weights(weights, input_channel=0):\n",
    "  # Assume weights are TensorFlow ops for 4-dim variables\n",
    "  # e.g. weights_conv1 or weights_conv2.\n",
    "  \n",
    "  # Retrive the values of the weight-variables from TensorFlow\n",
    "  # A feed-dict is not necessary because nothing is calculated.\n",
    "  w = session.run(weights)\n",
    "  \n",
    "  # Get the lowest and hightes values for the weights.\n",
    "  # This is used to correct the color intensity across\n",
    "  # the images so they can be compared with each other.\n",
    "  w_min = np.min(w)\n",
    "  w_max = np.max(w)\n",
    "  \n",
    "  # Number of filters used in the conv. layer.\n",
    "  num_filters= w.shape[3]\n",
    "  \n",
    "  # Number of grids to plot.\n",
    "  # Rounded-up, square-root of the number of filters.\n",
    "  num_grids = math.ceil(math.sqrt(num_filters))\n",
    "  \n",
    "  # Create figure with a grid of subplots.\n",
    "  fig , axes = plt.subplots(num_grids, num_grids)\n",
    "  \n",
    "  # Plot all the filter-weights.\n",
    "  for i , ax in enumerate(axes.flat):\n",
    "    # Only plot the valid filter-weights.\n",
    "    if i < num_filters:\n",
    "      # Get the weights for the i'th filter of the input channel.\n",
    "      # See new_conv_layer() for details on the format\n",
    "      # of this 4-dim tensor.\n",
    "      img = w[:,:,input_channel, i]\n",
    "      \n",
    "      # Plot image.\n",
    "      ax.imshow(img, vmin= w_min, vmax=w_max,\n",
    "                interpolation = 'nearest', cmap ='seismic')\n",
    "      \n",
    "    # Remove ticks from the plot.\n",
    "    ax.set_xticks([])\n",
    "    ax.set_yticks([])\n",
    "    \n",
    "  # Ensure the plot is shown correctly with multiple plots\n",
    "  # in a single Notebook cell.\n",
    "  plt.show()  "
   ]
  },
  {
   "cell_type": "markdown",
   "metadata": {
    "colab_type": "text",
    "id": "XLYZy8kNvubk"
   },
   "source": [
    "### Helper-function for plotting the output of a convolutional layer"
   ]
  },
  {
   "cell_type": "code",
   "execution_count": 0,
   "metadata": {
    "colab": {},
    "colab_type": "code",
    "id": "9GL-AlQ7vuY1"
   },
   "outputs": [],
   "source": [
    "def plot_conv_layer(layer, image):\n",
    "  # Assume layer is a TensorFlow op that outputs a 4-dim tensor\n",
    "  # which is the output of a convolutional layer,\n",
    "  # e.g. layer_conv1 or layer_conv2.\n",
    "  \n",
    "  # Create a feed-dict containing just one image.\n",
    "  # Note that we don't need to feed y_true because it is\n",
    "  # not used tin this calculation.\n",
    "  feed_dict = {x: [image]}\n",
    "  \n",
    "  # Calculate and retrive the output values of the layer \n",
    "  # when inputting that image.\n",
    "  values = session.run(layer, feed_dict = feed_dict)\n",
    "  \n",
    "  # Number of filters used in the con. layer.\n",
    "  num_filters = values.shape[3]\n",
    "  \n",
    "  # Number of grids to plot.\n",
    "  # Rounded-up, square-root of the number of filters.\n",
    "  num_grids = math.ceil(math.sqrt(num_filters))\n",
    "  \n",
    "  # Create figure with a grid of subplots.\n",
    "  fig , axes = plt.subplots(num_grids, num_grids)\n",
    "  \n",
    "  # Plot the output images of all the filters.\n",
    "  for i, ax in enumerate(axes.flat):\n",
    "    # Only plot the images for valid filters.\n",
    "    if i < num_filters:\n",
    "      # Get the output image of using the i'th filter.\n",
    "      # See new_conv_layer() for details on the format\n",
    "      # of this 4-dim tensor.\n",
    "      img = values[0,:,:,i]\n",
    "      \n",
    "      # Plot image.\n",
    "      ax.imshow(img, interpolation='nearest', cmap='binary')\n",
    "      \n",
    "    # Remove ticks from the plot\n",
    "    ax.set_xticks([])\n",
    "    ax.set_yticks([])\n",
    "    \n",
    "  # Ensure the plot is shown correctly with multiple plots\n",
    "  # in a single Notebook cell.\n",
    "  plt.show()"
   ]
  },
  {
   "cell_type": "markdown",
   "metadata": {
    "colab_type": "text",
    "id": "vbP2a88IvuVw"
   },
   "source": [
    "### Input Images\n",
    "\n",
    "Helper-function for plotting an image."
   ]
  },
  {
   "cell_type": "code",
   "execution_count": 0,
   "metadata": {
    "colab": {},
    "colab_type": "code",
    "id": "ZiI8kbpqvuT0"
   },
   "outputs": [],
   "source": [
    "def plot_image(image):\n",
    "  plt.imshow(image.reshape(img_shape),\n",
    "             interpolation='nearest',\n",
    "             cmap = 'binary')\n",
    "  \n",
    "  plt.show()"
   ]
  },
  {
   "cell_type": "markdown",
   "metadata": {
    "colab_type": "text",
    "id": "u5aLPaHivuQh"
   },
   "source": [
    "Plot an image from the Test-set which will be used as an example below."
   ]
  },
  {
   "cell_type": "code",
   "execution_count": 60,
   "metadata": {
    "colab": {
     "base_uri": "https://localhost:8080/",
     "height": 265
    },
    "colab_type": "code",
    "executionInfo": {
     "elapsed": 2354,
     "status": "ok",
     "timestamp": 1547023867760,
     "user": {
      "displayName": "Kyeong Hwan Kim",
      "photoUrl": "https://lh3.googleusercontent.com/-w0uAFDcbl8M/AAAAAAAAAAI/AAAAAAAAAD4/peltVh4_2BQ/s64/photo.jpg",
      "userId": "18391823257989996047"
     },
     "user_tz": -540
    },
    "id": "5YyG-01gzh0W",
    "outputId": "c66c6272-1007-4c48-e3ef-4536de2127d1"
   },
   "outputs": [
    {
     "data": {
      "image/png": "[encoded data removed]",
      "text/plain": [
       "<matplotlib.figure.Figure at 0x7f47c4dbfb38>"
      ]
     },
     "metadata": {
      "tags": []
     },
     "output_type": "display_data"
    }
   ],
   "source": [
    "image1 = data.test.images[0]\n",
    "plot_image(image1)"
   ]
  },
  {
   "cell_type": "markdown",
   "metadata": {
    "colab_type": "text",
    "id": "k-znDgdvzkfO"
   },
   "source": [
    "Plot another example image from the Test-set."
   ]
  },
  {
   "cell_type": "code",
   "execution_count": 62,
   "metadata": {
    "colab": {
     "base_uri": "https://localhost:8080/",
     "height": 265
    },
    "colab_type": "code",
    "executionInfo": {
     "elapsed": 822,
     "status": "ok",
     "timestamp": 1547024086463,
     "user": {
      "displayName": "Kyeong Hwan Kim",
      "photoUrl": "https://lh3.googleusercontent.com/-w0uAFDcbl8M/AAAAAAAAAAI/AAAAAAAAAD4/peltVh4_2BQ/s64/photo.jpg",
      "userId": "18391823257989996047"
     },
     "user_tz": -540
    },
    "id": "mHE4MwpdzpWe",
    "outputId": "052b1e21-a9aa-4f5e-aa66-61a0cfcc8317"
   },
   "outputs": [
    {
     "data": {
      "image/png": "[encoded data removed]",
      "text/plain": [
       "<matplotlib.figure.Figure at 0x7f47cbf97d68>"
      ]
     },
     "metadata": {
      "tags": []
     },
     "output_type": "display_data"
    }
   ],
   "source": [
    "image2 = data.test.images[1]\n",
    "plot_image(image2)"
   ]
  },
  {
   "cell_type": "markdown",
   "metadata": {
    "colab_type": "text",
    "id": "yU69cM6P0hMr"
   },
   "source": [
    "### Convolution Layer 1\n",
    "\n",
    "Now plot the filter-weights for the first convolutional layer.\n",
    "\n",
    "Note that positive weights are red and negative weights are blue."
   ]
  },
  {
   "cell_type": "code",
   "execution_count": 65,
   "metadata": {
    "colab": {
     "base_uri": "https://localhost:8080/",
     "height": 248
    },
    "colab_type": "code",
    "executionInfo": {
     "elapsed": 1474,
     "status": "ok",
     "timestamp": 1547024591665,
     "user": {
      "displayName": "Kyeong Hwan Kim",
      "photoUrl": "https://lh3.googleusercontent.com/-w0uAFDcbl8M/AAAAAAAAAAI/AAAAAAAAAD4/peltVh4_2BQ/s64/photo.jpg",
      "userId": "18391823257989996047"
     },
     "user_tz": -540
    },
    "id": "_Tg493c9014G",
    "outputId": "f46208a0-7223-4a66-bef1-4cfbb6e359cd"
   },
   "outputs": [
    {
     "data": {
      "image/png": "[encoded data removed]",
      "text/plain": [
       "<matplotlib.figure.Figure at 0x7f47c51272b0>"
      ]
     },
     "metadata": {
      "tags": []
     },
     "output_type": "display_data"
    }
   ],
   "source": [
    "plot_conv_weights(weights=weights_conv1)"
   ]
  },
  {
   "cell_type": "markdown",
   "metadata": {
    "colab_type": "text",
    "id": "LLcAUB9u0wi7"
   },
   "source": [
    "Applying each of these convolutional filters to the first input image gives the following output images, which are then used as input to the second convolutional layer. Note that these images are down-sampled to 14 x 14 pixels which is half the resolution of the original input image."
   ]
  },
  {
   "cell_type": "code",
   "execution_count": 68,
   "metadata": {
    "colab": {
     "base_uri": "https://localhost:8080/",
     "height": 248
    },
    "colab_type": "code",
    "executionInfo": {
     "elapsed": 1536,
     "status": "ok",
     "timestamp": 1547024649424,
     "user": {
      "displayName": "Kyeong Hwan Kim",
      "photoUrl": "https://lh3.googleusercontent.com/-w0uAFDcbl8M/AAAAAAAAAAI/AAAAAAAAAD4/peltVh4_2BQ/s64/photo.jpg",
      "userId": "18391823257989996047"
     },
     "user_tz": -540
    },
    "id": "SDP09L_X03UI",
    "outputId": "5f6385ba-43ac-40e6-d794-5b433aaeb610"
   },
   "outputs": [
    {
     "data": {
      "image/png": "[encoded data removed]",
      "text/plain": [
       "<matplotlib.figure.Figure at 0x7f47c5589908>"
      ]
     },
     "metadata": {
      "tags": []
     },
     "output_type": "display_data"
    }
   ],
   "source": [
    "plot_conv_layer(layer=layer_conv1, image=image1)"
   ]
  },
  {
   "cell_type": "markdown",
   "metadata": {
    "colab_type": "text",
    "id": "3-78hc512oEi"
   },
   "source": [
    "The following images are the results of applying the convolutional filters to the second image."
   ]
  },
  {
   "cell_type": "code",
   "execution_count": 69,
   "metadata": {
    "colab": {
     "base_uri": "https://localhost:8080/",
     "height": 248
    },
    "colab_type": "code",
    "executionInfo": {
     "elapsed": 1633,
     "status": "ok",
     "timestamp": 1547024671547,
     "user": {
      "displayName": "Kyeong Hwan Kim",
      "photoUrl": "https://lh3.googleusercontent.com/-w0uAFDcbl8M/AAAAAAAAAAI/AAAAAAAAAD4/peltVh4_2BQ/s64/photo.jpg",
      "userId": "18391823257989996047"
     },
     "user_tz": -540
    },
    "id": "WLNmaKG72wk8",
    "outputId": "ef2761ab-eedb-49fa-d0c3-9e734003f24a"
   },
   "outputs": [
    {
     "data": {
      "image/png": "[encoded data removed]",
      "text/plain": [
       "<matplotlib.figure.Figure at 0x7f47c52864a8>"
      ]
     },
     "metadata": {
      "tags": []
     },
     "output_type": "display_data"
    }
   ],
   "source": [
    "plot_conv_layer(layer=layer_conv1, image=image2)"
   ]
  },
  {
   "cell_type": "markdown",
   "metadata": {
    "colab_type": "text",
    "id": "CHlCdmN42xxZ"
   },
   "source": [
    "It is difficult to see from these images what the purpose of the convolutional filters might be. It appears that they have merely created several variations of the input image, as if light was shining from different angles and casting shadows in the image."
   ]
  },
  {
   "cell_type": "markdown",
   "metadata": {
    "colab_type": "text",
    "id": "iL9e37a020vN"
   },
   "source": [
    "### Convolution Layer 2\n",
    "\n",
    "Now plot the filter-weights for the second convolutional layer.\n",
    "\n",
    "There are 16 output channels from the first conv-layer, which means there are 16 input channels to the second conv-layer. The second conv-layer has a set of filter-weights for each of its input channels. We start by plotting the filter-weigths for the first channel.\n",
    "\n",
    "Note again that positive weights are red and negative weights are blue."
   ]
  },
  {
   "cell_type": "code",
   "execution_count": 70,
   "metadata": {
    "colab": {
     "base_uri": "https://localhost:8080/",
     "height": 248
    },
    "colab_type": "code",
    "executionInfo": {
     "elapsed": 2611,
     "status": "ok",
     "timestamp": 1547024751610,
     "user": {
      "displayName": "Kyeong Hwan Kim",
      "photoUrl": "https://lh3.googleusercontent.com/-w0uAFDcbl8M/AAAAAAAAAAI/AAAAAAAAAD4/peltVh4_2BQ/s64/photo.jpg",
      "userId": "18391823257989996047"
     },
     "user_tz": -540
    },
    "id": "rnLw7xQn27jc",
    "outputId": "7b6dbe5a-502f-4ba1-9871-77303f3621fe"
   },
   "outputs": [
    {
     "data": {
      "image/png": "[encoded data removed]",
      "text/plain": [
       "<matplotlib.figure.Figure at 0x7f47c526c198>"
      ]
     },
     "metadata": {
      "tags": []
     },
     "output_type": "display_data"
    }
   ],
   "source": [
    "plot_conv_weights(weights=weights_conv2, input_channel=0)"
   ]
  },
  {
   "cell_type": "markdown",
   "metadata": {
    "colab_type": "text",
    "id": "KABPEUx33FE4"
   },
   "source": [
    "There are 16 input channels to the second convolutional layer, so we can make another 15 plots of filter-weights like this. We just make one more with the filter-weights for the second channel. "
   ]
  },
  {
   "cell_type": "code",
   "execution_count": 71,
   "metadata": {
    "colab": {
     "base_uri": "https://localhost:8080/",
     "height": 248
    },
    "colab_type": "code",
    "executionInfo": {
     "elapsed": 2596,
     "status": "ok",
     "timestamp": 1547024773589,
     "user": {
      "displayName": "Kyeong Hwan Kim",
      "photoUrl": "https://lh3.googleusercontent.com/-w0uAFDcbl8M/AAAAAAAAAAI/AAAAAAAAAD4/peltVh4_2BQ/s64/photo.jpg",
      "userId": "18391823257989996047"
     },
     "user_tz": -540
    },
    "id": "lQtt6Al33Hle",
    "outputId": "398c98ff-9774-4f43-afdc-1dd8ede25e02"
   },
   "outputs": [
    {
     "data": {
      "image/png": "[encoded data removed]",
      "text/plain": [
       "<matplotlib.figure.Figure at 0x7f47c4d2edd8>"
      ]
     },
     "metadata": {
      "tags": []
     },
     "output_type": "display_data"
    }
   ],
   "source": [
    "plot_conv_weights(weights=weights_conv2, input_channel=1)"
   ]
  },
  {
   "cell_type": "markdown",
   "metadata": {
    "colab_type": "text",
    "id": "tmBcEYjl3ISu"
   },
   "source": [
    "It can be difficult to understand and keep track of how these filters are applied because of the high dimensionality.\n",
    "\n",
    "Applying these convolutional filters to the images that were ouput from the first conv-layer gives the following images.\n",
    "\n",
    "Note that these are down-sampled yet again to 7 x 7 pixels which is half the resolution of the images from the first conv-layer."
   ]
  },
  {
   "cell_type": "code",
   "execution_count": 72,
   "metadata": {
    "colab": {
     "base_uri": "https://localhost:8080/",
     "height": 248
    },
    "colab_type": "code",
    "executionInfo": {
     "elapsed": 2628,
     "status": "ok",
     "timestamp": 1547024902859,
     "user": {
      "displayName": "Kyeong Hwan Kim",
      "photoUrl": "https://lh3.googleusercontent.com/-w0uAFDcbl8M/AAAAAAAAAAI/AAAAAAAAAD4/peltVh4_2BQ/s64/photo.jpg",
      "userId": "18391823257989996047"
     },
     "user_tz": -540
    },
    "id": "IQDnSopR3IYr",
    "outputId": "9e590b5a-fea9-49ca-c0ce-b1a1663407b7"
   },
   "outputs": [
    {
     "data": {
      "image/png": "[encoded data removed]",
      "text/plain": [
       "<matplotlib.figure.Figure at 0x7f47c4860278>"
      ]
     },
     "metadata": {
      "tags": []
     },
     "output_type": "display_data"
    }
   ],
   "source": [
    "plot_conv_layer(layer=layer_conv2, image=image1)"
   ]
  },
  {
   "cell_type": "markdown",
   "metadata": {
    "colab_type": "text",
    "id": "ZnYtSFIV3Id7"
   },
   "source": [
    "And these are the results of applying the filter-weights to the second image."
   ]
  },
  {
   "cell_type": "code",
   "execution_count": 73,
   "metadata": {
    "colab": {
     "base_uri": "https://localhost:8080/",
     "height": 248
    },
    "colab_type": "code",
    "executionInfo": {
     "elapsed": 2815,
     "status": "ok",
     "timestamp": 1547024926101,
     "user": {
      "displayName": "Kyeong Hwan Kim",
      "photoUrl": "https://lh3.googleusercontent.com/-w0uAFDcbl8M/AAAAAAAAAAI/AAAAAAAAAD4/peltVh4_2BQ/s64/photo.jpg",
      "userId": "18391823257989996047"
     },
     "user_tz": -540
    },
    "id": "U6tdNpM33IjD",
    "outputId": "78346549-36d1-4f18-cb61-13d4da001270"
   },
   "outputs": [
    {
     "data": {
      "image/png": "[encoded data removed]",
      "text/plain": [
       "<matplotlib.figure.Figure at 0x7f47ceb06a20>"
      ]
     },
     "metadata": {
      "tags": []
     },
     "output_type": "display_data"
    }
   ],
   "source": [
    "plot_conv_layer(layer=layer_conv2, image=image2)"
   ]
  },
  {
   "cell_type": "markdown",
   "metadata": {
    "colab_type": "text",
    "id": "jiv1258z3Inr"
   },
   "source": [
    "From these images, it looks like the second convolutional layer might detect lines and patterns in the input images, which are less sensitive to local variations in the original input images.\n",
    "\n",
    "These images are then flattened and input to the fully-connected layer, but that is not shown here."
   ]
  },
  {
   "cell_type": "markdown",
   "metadata": {
    "colab_type": "text",
    "id": "F0N6NRH33Iso"
   },
   "source": [
    "## Close TensorFlow Session\n",
    "\n",
    "We are now done using TensorFlow, so we close the session to release its resources."
   ]
  },
  {
   "cell_type": "code",
   "execution_count": 0,
   "metadata": {
    "colab": {},
    "colab_type": "code",
    "id": "HfKt7aso36VO"
   },
   "outputs": [],
   "source": [
    "session.close()"
   ]
  },
  {
   "cell_type": "markdown",
   "metadata": {
    "colab_type": "text",
    "id": "YPWCESqk4GRe"
   },
   "source": [
    "## Exercises\n",
    "\n",
    "These are a few suggestions for exercises that may help improve your skills with TensorFlow. It is important to get hands-on experience with TensorFlow in order to learn how to use it properly.\n",
    "\n",
    "You may want to backup this Notebook before making any changes.\n",
    "\n",
    "* Do you get the exact same results if you run the Notebook multiple times without changing any parameters? What are the sources of randomness?\n",
    "* Run another 10,000 optimization iterations. Are the results better?\n",
    "* Change the learning-rate for the optimizer.\n",
    "* Change the configuration of the layers, such as the number of convolutional filters, the size of those filters, the number of neurons in the fully-connected layer, etc.\n",
    "* Add a so-called drop-out layer after the fully-connected layer. Note that the drop-out probability should be zero when calculating the classification accuracy, so you will need a placeholder variable for this probability.\n",
    "* Change the order of ReLU and max-pooling in the convolutional layer. Does it calculate the same thing? What is the fastest way of computing it? How many calculations are saved? Does it also work for Sigmoid-functions and average-pooling?\n",
    "* Add one or more convolutional and fully-connected layers. Does it help performance?\n",
    "* What is the smallest possible configuration that still gives good results?\n",
    "* Try using ReLU in the last fully-connected layer. Does the performance change? Why?\n",
    "* Try not using pooling in the convolutional layers. Does it change the classification accuracy and training time?\n",
    "* Try using a 2x2 stride in the convolution instead of max-pooling? What is the difference?\n",
    "* Remake the program yourself without looking too much at this source-code.\n",
    "* Explain to a friend how the program works."
   ]
  },
  {
   "cell_type": "markdown",
   "metadata": {},
   "source": [
    "## License (MIT)\n",
    "\n",
    "Copyright (c) 2016-2017 by [Magnus Erik Hvass Pedersen](http://www.hvass-labs.org/)\n",
    "\n",
    "Permission is hereby granted, free of charge, to any person obtaining a copy of this software and associated documentation files (the \"Software\"), to deal in the Software without restriction, including without limitation the rights to use, copy, modify, merge, publish, distribute, sublicense, and/or sell copies of the Software, and to permit persons to whom the Software is furnished to do so, subject to the following conditions:\n",
    "\n",
    "The above copyright notice and this permission notice shall be included in all copies or substantial portions of the Software.\n",
    "\n",
    "THE SOFTWARE IS PROVIDED \"AS IS\", WITHOUT WARRANTY OF ANY KIND, EXPRESS OR IMPLIED, INCLUDING BUT NOT LIMITED TO THE WARRANTIES OF MERCHANTABILITY, FITNESS FOR A PARTICULAR PURPOSE AND NONINFRINGEMENT. IN NO EVENT SHALL THE AUTHORS OR COPYRIGHT HOLDERS BE LIABLE FOR ANY CLAIM, DAMAGES OR OTHER LIABILITY, WHETHER IN AN ACTION OF CONTRACT, TORT OR OTHERWISE, ARISING FROM, OUT OF OR IN CONNECTION WITH THE SOFTWARE OR THE USE OR OTHER DEALINGS IN THE SOFTWARE."
   ]
  }
 ],
 "metadata": {
  "accelerator": "GPU",
  "colab": {
   "collapsed_sections": [],
   "name": "02_Convolutional_Neural_Network.ipynb",
   "provenance": [],
   "version": "0.3.2"
  },
  "kernelspec": {
   "display_name": "Python 3",
   "language": "python",
   "name": "python3"
  },
  "language_info": {
   "codemirror_mode": {
    "name": "ipython",
    "version": 3
   },
   "file_extension": ".py",
   "mimetype": "text/x-python",
   "name": "python",
   "nbconvert_exporter": "python",
   "pygments_lexer": "ipython3",
   "version": "3.6.8"
  },
  "latex_envs": {
   "LaTeX_envs_menu_present": true,
   "autoclose": false,
   "autocomplete": true,
   "bibliofile": "biblio.bib",
   "cite_by": "apalike",
   "current_citInitial": 1,
   "eqLabelWithNumbers": true,
   "eqNumInitial": 1,
   "hotkeys": {
    "equation": "Ctrl-E",
    "itemize": "Ctrl-I"
   },
   "labels_anchors": false,
   "latex_user_defs": false,
   "report_style_numbering": false,
   "user_envs_cfg": false
  },
  "toc": {
   "base_numbering": 1,
   "nav_menu": {},
   "number_sections": true,
   "sideBar": true,
   "skip_h1_title": false,
   "title_cell": "Table of Contents",
   "title_sidebar": "Contents",
   "toc_cell": false,
   "toc_position": {},
   "toc_section_display": true,
   "toc_window_display": false
  },
  "varInspector": {
   "cols": {
    "lenName": 16,
    "lenType": 16,
    "lenVar": 40
   },
   "kernels_config": {
    "python": {
     "delete_cmd_postfix": "",
     "delete_cmd_prefix": "del ",
     "library": "var_list.py",
     "varRefreshCmd": "print(var_dic_list())"
    },
    "r": {
     "delete_cmd_postfix": ") ",
     "delete_cmd_prefix": "rm(",
     "library": "var_list.r",
     "varRefreshCmd": "cat(var_dic_list()) "
    }
   },
   "types_to_exclude": [
    "module",
    "function",
    "builtin_function_or_method",
    "instance",
    "_Feature"
   ],
   "window_display": false
  }
 },
 "nbformat": 4,
 "nbformat_minor": 1
}
