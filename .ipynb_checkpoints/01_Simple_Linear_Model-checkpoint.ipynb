{
 "cells": [
  {
   "cell_type": "markdown",
   "metadata": {
    "colab_type": "text",
    "id": "x_dkLuuWxa9E"
   },
   "source": [
    "# Tensorflow Tutorial #01\n",
    "\n",
    "# Simple Linear Model"
   ]
  },
  {
   "cell_type": "markdown",
   "metadata": {
    "colab_type": "text",
    "id": "bFu_2DWg0JAY"
   },
   "source": [
    "## Introduction\n",
    "\n",
    "This tutorial demonstrates the basic workflow of using TensorFlow with a simple linear model. After loading the so-called MNIST data-set with images of hand-written digits, we define and optimize a simple mathematical model in TensorFlow. The results are then plotted and discussed."
   ]
  },
  {
   "cell_type": "markdown",
   "metadata": {
    "colab_type": "text",
    "id": "rSZQHp990IMc"
   },
   "source": [
    "## Imports"
   ]
  },
  {
   "cell_type": "code",
   "execution_count": 1,
   "metadata": {
    "colab": {},
    "colab_type": "code",
    "id": "GLSiNR5k0IRR"
   },
   "outputs": [],
   "source": [
    "import matplotlib.pyplot as plt\n",
    "import tensorflow as tf\n",
    "import numpy as np\n",
    "from sklearn.metrics import confusion_matrix\n",
    "\n",
    "import warnings\n",
    "warnings.filterwarnings('ignore')"
   ]
  },
  {
   "cell_type": "code",
   "execution_count": 2,
   "metadata": {
    "colab": {
     "base_uri": "https://localhost:8080/",
     "height": 35
    },
    "colab_type": "code",
    "executionInfo": {
     "elapsed": 535,
     "status": "ok",
     "timestamp": 1546997176004,
     "user": {
      "displayName": "Kyeong Hwan Kim",
      "photoUrl": "https://lh3.googleusercontent.com/-w0uAFDcbl8M/AAAAAAAAAAI/AAAAAAAAAD4/peltVh4_2BQ/s64/photo.jpg",
      "userId": "18391823257989996047"
     },
     "user_tz": -540
    },
    "id": "qj6vus0w0IVG",
    "outputId": "c26f41c7-959d-4975-fac1-695e4ec5950f"
   },
   "outputs": [
    {
     "data": {
      "text/plain": [
       "'1.12.0'"
      ]
     },
     "execution_count": 2,
     "metadata": {},
     "output_type": "execute_result"
    }
   ],
   "source": [
    "tf.__version__"
   ]
  },
  {
   "cell_type": "markdown",
   "metadata": {
    "colab_type": "text",
    "id": "QwHMlxBX0IfY"
   },
   "source": [
    "## Load Data"
   ]
  },
  {
   "cell_type": "markdown",
   "metadata": {
    "colab_type": "text",
    "id": "_PQusMIB0uF7"
   },
   "source": [
    "The MNIST data-set is about 12 MB and will be downloaded automatically if it is not located in the given path."
   ]
  },
  {
   "cell_type": "code",
   "execution_count": 3,
   "metadata": {
    "colab": {
     "base_uri": "https://localhost:8080/",
     "height": 417
    },
    "colab_type": "code",
    "executionInfo": {
     "elapsed": 9165,
     "status": "ok",
     "timestamp": 1546997189249,
     "user": {
      "displayName": "Kyeong Hwan Kim",
      "photoUrl": "https://lh3.googleusercontent.com/-w0uAFDcbl8M/AAAAAAAAAAI/AAAAAAAAAD4/peltVh4_2BQ/s64/photo.jpg",
      "userId": "18391823257989996047"
     },
     "user_tz": -540
    },
    "id": "cGgG10O416QG",
    "outputId": "2d153b31-5396-4409-ced3-a24065c4f492",
    "scrolled": true
   },
   "outputs": [
    {
     "name": "stdout",
     "output_type": "stream",
     "text": [
      "WARNING:tensorflow:From <ipython-input-3-37adf088ce13>:2: read_data_sets (from tensorflow.contrib.learn.python.learn.datasets.mnist) is deprecated and will be removed in a future version.\n",
      "Instructions for updating:\n",
      "Please use alternatives such as official/mnist/dataset.py from tensorflow/models.\n",
      "WARNING:tensorflow:From /Users/kimkyunghwan/anaconda3/lib/python3.6/site-packages/tensorflow/contrib/learn/python/learn/datasets/mnist.py:260: maybe_download (from tensorflow.contrib.learn.python.learn.datasets.base) is deprecated and will be removed in a future version.\n",
      "Instructions for updating:\n",
      "Please write your own downloading logic.\n",
      "WARNING:tensorflow:From /Users/kimkyunghwan/anaconda3/lib/python3.6/site-packages/tensorflow/contrib/learn/python/learn/datasets/base.py:252: _internal_retry.<locals>.wrap.<locals>.wrapped_fn (from tensorflow.contrib.learn.python.learn.datasets.base) is deprecated and will be removed in a future version.\n",
      "Instructions for updating:\n",
      "Please use urllib or similar directly.\n",
      "WARNING:tensorflow:From /Users/kimkyunghwan/anaconda3/lib/python3.6/site-packages/tensorflow/contrib/learn/python/learn/datasets/mnist.py:262: extract_images (from tensorflow.contrib.learn.python.learn.datasets.mnist) is deprecated and will be removed in a future version.\n",
      "Instructions for updating:\n",
      "Please use tf.data to implement this functionality.\n",
      "WARNING:tensorflow:From /Users/kimkyunghwan/anaconda3/lib/python3.6/site-packages/tensorflow/contrib/learn/python/learn/datasets/mnist.py:267: extract_labels (from tensorflow.contrib.learn.python.learn.datasets.mnist) is deprecated and will be removed in a future version.\n",
      "Instructions for updating:\n",
      "Please use tf.data to implement this functionality.\n",
      "WARNING:tensorflow:From /Users/kimkyunghwan/anaconda3/lib/python3.6/site-packages/tensorflow/contrib/learn/python/learn/datasets/mnist.py:110: dense_to_one_hot (from tensorflow.contrib.learn.python.learn.datasets.mnist) is deprecated and will be removed in a future version.\n",
      "Instructions for updating:\n",
      "Please use tf.one_hot on tensors.\n",
      "WARNING:tensorflow:From /Users/kimkyunghwan/anaconda3/lib/python3.6/site-packages/tensorflow/contrib/learn/python/learn/datasets/mnist.py:290: DataSet.__init__ (from tensorflow.contrib.learn.python.learn.datasets.mnist) is deprecated and will be removed in a future version.\n",
      "Instructions for updating:\n",
      "Please use alternatives such as official/mnist/dataset.py from tensorflow/models.\n"
     ]
    }
   ],
   "source": [
    "from tensorflow.examples.tutorials.mnist import input_data\n",
    "data = input_data.read_data_sets('data/MNIST/', one_hot=True)"
   ]
  },
  {
   "cell_type": "markdown",
   "metadata": {
    "colab_type": "text",
    "id": "CIPDq-kN0wl6"
   },
   "source": [
    "The MNIST data-set has now been loaded and consists of 70.000 images and class-numbers for the images. The data-set is split into 3 mutually exclusive sub-sets. We will only use the training and test-sets in this tutorial."
   ]
  },
  {
   "cell_type": "code",
   "execution_count": 4,
   "metadata": {
    "colab": {
     "base_uri": "https://localhost:8080/",
     "height": 86
    },
    "colab_type": "code",
    "executionInfo": {
     "elapsed": 562,
     "status": "ok",
     "timestamp": 1546997189645,
     "user": {
      "displayName": "Kyeong Hwan Kim",
      "photoUrl": "https://lh3.googleusercontent.com/-w0uAFDcbl8M/AAAAAAAAAAI/AAAAAAAAAD4/peltVh4_2BQ/s64/photo.jpg",
      "userId": "18391823257989996047"
     },
     "user_tz": -540
    },
    "id": "kkpl_lT10woj",
    "outputId": "6e0b3dae-525c-42dd-fb55-afca4a17c2d0"
   },
   "outputs": [
    {
     "name": "stdout",
     "output_type": "stream",
     "text": [
      "Size of :\n",
      "- Training-set : \t\t55000\n",
      "- Validation-set : \t\t5000\n",
      "- Test-set : \t\t\t10000\n"
     ]
    }
   ],
   "source": [
    "print('Size of :')\n",
    "print('- Training-set : \\t\\t{}'.format(data.train.num_examples))\n",
    "print('- Validation-set : \\t\\t{}'.format(data.validation.num_examples))\n",
    "print('- Test-set : \\t\\t\\t{}'.format(data.test.num_examples))"
   ]
  },
  {
   "cell_type": "markdown",
   "metadata": {
    "colab_type": "text",
    "id": "5RU5BuAg0wrO"
   },
   "source": [
    "Copy some of the data-dimensions for convenience."
   ]
  },
  {
   "cell_type": "code",
   "execution_count": 0,
   "metadata": {
    "colab": {},
    "colab_type": "code",
    "id": "01BsflWi0wtx"
   },
   "outputs": [],
   "source": [
    "# the images are stored in one-dimensional arrays of this length.\n",
    "img_size_flat = data.train.images[0].shape[0]\n",
    "\n",
    "# Tuple with height and width of images used to reshape arrays.\n",
    "img_shape = (28,28)\n",
    "\n",
    "# Number of classes, one class for each of 10 digits.\n",
    "num_classes = 10"
   ]
  },
  {
   "cell_type": "markdown",
   "metadata": {
    "colab_type": "text",
    "id": "j59eCr2b0wy9"
   },
   "source": [
    "### One-Hot Encoding\n",
    "\n",
    "The output-data is loaded as both integer class-numbers and so-called One-Hot encoded arrays. This means the class-numbers have been converted from a single integer to a vector whose length equals the number of possible classes. All elements of the vector are zero except for the $i$'th element which is 1 and means the class is $i$. For example, the One-Hot encoded labels for the first 5 images in the test-set are:"
   ]
  },
  {
   "cell_type": "code",
   "execution_count": 6,
   "metadata": {
    "colab": {
     "base_uri": "https://localhost:8080/",
     "height": 104
    },
    "colab_type": "code",
    "executionInfo": {
     "elapsed": 1087,
     "status": "ok",
     "timestamp": 1546997197428,
     "user": {
      "displayName": "Kyeong Hwan Kim",
      "photoUrl": "https://lh3.googleusercontent.com/-w0uAFDcbl8M/AAAAAAAAAAI/AAAAAAAAAD4/peltVh4_2BQ/s64/photo.jpg",
      "userId": "18391823257989996047"
     },
     "user_tz": -540
    },
    "id": "WJNdTMdu0w1b",
    "outputId": "36515302-0da2-4b63-a748-6b8e89343214"
   },
   "outputs": [
    {
     "data": {
      "text/plain": [
       "array([[0., 0., 0., 0., 0., 0., 0., 1., 0., 0.],\n",
       "       [0., 0., 1., 0., 0., 0., 0., 0., 0., 0.],\n",
       "       [0., 1., 0., 0., 0., 0., 0., 0., 0., 0.],\n",
       "       [1., 0., 0., 0., 0., 0., 0., 0., 0., 0.],\n",
       "       [0., 0., 0., 0., 1., 0., 0., 0., 0., 0.]])"
      ]
     },
     "execution_count": 6,
     "metadata": {
      "tags": []
     },
     "output_type": "execute_result"
    }
   ],
   "source": [
    "data.test.labels[0:5, :]"
   ]
  },
  {
   "cell_type": "markdown",
   "metadata": {
    "colab_type": "text",
    "id": "W8HWQKwH0w4M"
   },
   "source": [
    "We also need the classes as integers for various comparisons and performance measures. These can be found from the One-Hot encoded arrays by taking the index of the highest element using the np.argmax() function. "
   ]
  },
  {
   "cell_type": "code",
   "execution_count": 7,
   "metadata": {
    "colab": {
     "base_uri": "https://localhost:8080/",
     "height": 35
    },
    "colab_type": "code",
    "executionInfo": {
     "elapsed": 739,
     "status": "ok",
     "timestamp": 1546997197979,
     "user": {
      "displayName": "Kyeong Hwan Kim",
      "photoUrl": "https://lh3.googleusercontent.com/-w0uAFDcbl8M/AAAAAAAAAAI/AAAAAAAAAD4/peltVh4_2BQ/s64/photo.jpg",
      "userId": "18391823257989996047"
     },
     "user_tz": -540
    },
    "id": "N41bFZ710w6w",
    "outputId": "41ec8204-b616-46ca-c70f-9906fdb6dc36"
   },
   "outputs": [
    {
     "data": {
      "text/plain": [
       "[7, 2, 1, 0, 4]"
      ]
     },
     "execution_count": 7,
     "metadata": {
      "tags": []
     },
     "output_type": "execute_result"
    }
   ],
   "source": [
    " [np.argmax(x) for x in data.test.labels[0:5, : ] ]"
   ]
  },
  {
   "cell_type": "markdown",
   "metadata": {
    "colab_type": "text",
    "id": "ecSGdb_r67a8"
   },
   "source": [
    "### Helper-function for plotting images\n",
    "\n",
    "Function used to plot 9 images in a 3x3 grid, and writing the true and predicted classes below each image.\n",
    "\n"
   ]
  },
  {
   "cell_type": "code",
   "execution_count": 0,
   "metadata": {
    "colab": {},
    "colab_type": "code",
    "id": "5qmWg5OY7NbQ"
   },
   "outputs": [],
   "source": [
    "def plot_images(images, cls_true , cls_pred=None):\n",
    "  assert len(images) == len(cls_true) == 9\n",
    "  \n",
    "  # Create figure with 3x3 subplots.\n",
    "  fig, axes = plt.subplots(3,3)\n",
    "  fig.subplots_adjust(hspace=0.3, wspace=0.3)\n",
    "  \n",
    "  for i, ax in enumerate(axes.flat):\n",
    "    # Plot image.\n",
    "    ax.imshow(images[i].reshape(img_shape), cmap='binary')\n",
    "    \n",
    "    # Show true and predicted classes\n",
    "    if cls_pred is None:\n",
    "      xlabel = 'True : {0}'.format(cls_true[i])\n",
    "    else:\n",
    "      xlabel = 'True : {0}, Pred : {1}'.format(cls_true[i], cls_pred[i])\n",
    "      \n",
    "    ax.set_xlabel(xlabel)\n",
    "    \n",
    "    # Remove ticks from the plot\n",
    "    ax.set_xticks([])\n",
    "    ax.set_yticks([])\n",
    "    \n",
    "  # Ensure the plot is shown correctly with multiple plots\n",
    "  # in a single Notebook cell.\n",
    "  plt.show()"
   ]
  },
  {
   "cell_type": "markdown",
   "metadata": {
    "colab_type": "text",
    "id": "1Ftwll8P8bOE"
   },
   "source": [
    "### Plot a few images to see if data is correct¶\n"
   ]
  },
  {
   "cell_type": "code",
   "execution_count": 9,
   "metadata": {
    "colab": {
     "base_uri": "https://localhost:8080/",
     "height": 345
    },
    "colab_type": "code",
    "executionInfo": {
     "elapsed": 1676,
     "status": "ok",
     "timestamp": 1546997218064,
     "user": {
      "displayName": "Kyeong Hwan Kim",
      "photoUrl": "https://lh3.googleusercontent.com/-w0uAFDcbl8M/AAAAAAAAAAI/AAAAAAAAAD4/peltVh4_2BQ/s64/photo.jpg",
      "userId": "18391823257989996047"
     },
     "user_tz": -540
    },
    "id": "D-pfTpRn8dj8",
    "outputId": "de3cd89f-f106-4253-c532-c7e5a5eaa9d6"
   },
   "outputs": [
    {
     "data": {
      "image/png": "[encoded data removed]",
      "text/plain": [
       "<matplotlib.figure.Figure at 0x7fc8b8545898>"
      ]
     },
     "metadata": {
      "tags": []
     },
     "output_type": "display_data"
    }
   ],
   "source": [
    "# Get the first images from the Test-set.\n",
    "images = data.test.images[0:9]\n",
    "\n",
    "# Get the true classes for those images.\n",
    "cls_true = [np.argmax(oh) for oh in data.test.labels[0:9] ]\n",
    "\n",
    "# Plot the images and labels using our helper-function above.\n",
    "plot_images(images, cls_true)"
   ]
  },
  {
   "cell_type": "markdown",
   "metadata": {
    "colab_type": "text",
    "id": "yPzsShyr8j8l"
   },
   "source": [
    "## TensorFlow Graph ##\n",
    "\n",
    "The entire purpose of TensorFlow is to have a so-called computational graph that can be executed much more efficiently than if the same calculations were to be performed directly in Python. TensorFlow can be more efficient than NumPy because TensorFlow knows the entire computation graph that must be executed, while NumPy only knows the computation of a single mathematical operation at a time.\n",
    "\n",
    "TensorFlow can also automatically calculate the gradients that are needed to optimize the variables of the graph so as to make the model perform better. This is because the graph is a combination of simple mathematical expressions so the gradient of the entire graph can be calculated using the chain-rule for derivatives.\n",
    "\n",
    "TensorFlow can also take advantage of multi-core CPUs as well as GPUs - and Google has even built special chips just for TensorFlow which are called TPUs (Tensor Processing Units) that are even faster than GPUs.\n",
    "\n",
    "A TensorFlow graph consists of the following parts which will be detailed below:\n",
    "\n",
    " - Placeholder variables used to feed input into the graph.\n",
    " - Model variables that are going to be optimized so as to make the model perform better.\n",
    " - The model which is essentially just a mathematical function that calculates some output given the input in the placeholder variables and the model variables.\n",
    " - A cost measure that can be used to guide the optimization of the variables.\n",
    " - An optimization method which updates the variables of the model.\n",
    "\n",
    "In addition, the TensorFlow graph may also contain various debugging statements e.g. for logging data to be displayed using TensorBoard, which is not covered in this tutorial.\n",
    "\n",
    "## Placeholder variables ###\n",
    "\n",
    "Placeholder variables serve as the input to the graph that we may change each time we execute the graph. We call this feeding the placeholder variables and it is demonstrated further below.\n",
    "\n",
    "First we define the placeholder variable for the input images. This allows us to change the images that are input to the TensorFlow graph. This is a so-called tensor, which just means that it is a multi-dimensional vector or matrix. The data-type is set to float32 and the shape is set to [None, img_size_flat], where None means that the tensor may hold an arbitrary number of images with each image being a vector of length img_size_flat."
   ]
  },
  {
   "cell_type": "code",
   "execution_count": 0,
   "metadata": {
    "colab": {},
    "colab_type": "code",
    "id": "w1HFcWTc9Ra3"
   },
   "outputs": [],
   "source": [
    "x = tf.placeholder( tf.float32, [None, img_size_flat])"
   ]
  },
  {
   "cell_type": "markdown",
   "metadata": {
    "colab_type": "text",
    "id": "x7JwaKy--V7F"
   },
   "source": [
    "Next we have the placeholder variable for the true labels associated with the images that were input in the placeholder variable x. The shape of this placeholder variable is [None, num_classes] which means it may hold an arbitrary number of labels and each label is a vector of length num_classes which is 10 in this case."
   ]
  },
  {
   "cell_type": "code",
   "execution_count": 0,
   "metadata": {
    "colab": {},
    "colab_type": "code",
    "id": "tUdGnneG-nzf"
   },
   "outputs": [],
   "source": [
    "y_true = tf.placeholder( tf.float32, [None, num_classes])"
   ]
  },
  {
   "cell_type": "markdown",
   "metadata": {
    "colab_type": "text",
    "id": "Yr4ns7aJ-yNs"
   },
   "source": [
    "Finally we have the placeholder variable for the true class of each image in the placeholder variable x. These are integers and the dimensionality of this placeholder variable is set to [None] which means the placeholder variable is a one-dimensional vector of arbitrary length."
   ]
  },
  {
   "cell_type": "code",
   "execution_count": 0,
   "metadata": {
    "colab": {},
    "colab_type": "code",
    "id": "7_zvzVDl-yAq"
   },
   "outputs": [],
   "source": [
    "y_true_cls = tf.placeholder( tf.int64, [None])"
   ]
  },
  {
   "cell_type": "markdown",
   "metadata": {
    "colab_type": "text",
    "id": "n-bvKeH5-vqu"
   },
   "source": [
    "## Variables to be optimized ##\n",
    "\n",
    "Apart from the placeholder variables that were defined above and which serve as feeding input data into the model, there are also some model variables that must be changed by TensorFlow so as to make the model perform better on the training data.\n",
    "\n",
    "The first variable that must be optimized is called weights and is defined here as a TensorFlow variable that must be initialized with zeros and whose shape is [img_size_flat, num_classes], so it is a 2-dimensional tensor (or matrix) with img_size_flat rows and num_classes columns."
   ]
  },
  {
   "cell_type": "code",
   "execution_count": 0,
   "metadata": {
    "colab": {},
    "colab_type": "code",
    "id": "RqIIp7fd_K69"
   },
   "outputs": [],
   "source": [
    "weights = tf.Variable(tf.zeros([img_size_flat, num_classes]))"
   ]
  },
  {
   "cell_type": "markdown",
   "metadata": {
    "colab_type": "text",
    "id": "_4ES-Bot_fwM"
   },
   "source": [
    "The second variable that must be optimized is called biases and is defined as a 1-dimensional tensor (or vector) of length num_classes."
   ]
  },
  {
   "cell_type": "code",
   "execution_count": 0,
   "metadata": {
    "colab": {},
    "colab_type": "code",
    "id": "rY9ZPxM9_fAT"
   },
   "outputs": [],
   "source": [
    "bias = tf.Variable(tf.zeros([num_classes]))"
   ]
  },
  {
   "cell_type": "markdown",
   "metadata": {
    "colab_type": "text",
    "id": "oZkaRrI1_ZPn"
   },
   "source": [
    "## Model\n",
    "\n",
    "This simple mathematical model multiplies the images in the placeholder variable x with the weights and then adds the biases.\n",
    "\n",
    "The result is a matrix of shape [num_images, num_classes] because x has shape [num_images, img_size_flat] and weights has shape [img_size_flat, num_classes], so the multiplication of those two matrices is a matrix with shape [num_images, num_classes] and then the biases vector is added to each row of that matrix.\n",
    "\n",
    "Note that the name $ logits $ is typical TensorFlow terminology, but other people may call the variable something else.\n",
    "\n"
   ]
  },
  {
   "cell_type": "code",
   "execution_count": 0,
   "metadata": {
    "colab": {},
    "colab_type": "code",
    "id": "OWTdB8VL_cIh"
   },
   "outputs": [],
   "source": [
    "logits = tf.matmul(x, weights) + bias"
   ]
  },
  {
   "cell_type": "markdown",
   "metadata": {
    "colab_type": "text",
    "id": "SOKku3-f_0eM"
   },
   "source": [
    "Now logits is a matrix with num_images rows and num_classes columns, where the element of the $i^{th}$ row and $j^{th}$ column is an estimate of how likely the $i^{th}$ input image is to be of the $j^{th}$'th class.\n",
    "\n",
    "However, these estimates are a bit rough and difficult to interpret because the numbers may be very small or large, so we want to normalize them so that each row of the logits matrix sums to one, and each element is limited between zero and one. This is calculated using the so-called softmax function and the result is stored in * y_pred *."
   ]
  },
  {
   "cell_type": "code",
   "execution_count": 0,
   "metadata": {
    "colab": {},
    "colab_type": "code",
    "id": "Bs1c0jwj_4LS"
   },
   "outputs": [],
   "source": [
    "y_pred = tf.nn.softmax(logits)"
   ]
  },
  {
   "cell_type": "markdown",
   "metadata": {
    "colab_type": "text",
    "id": "dToHc7ZzAiC-"
   },
   "source": [
    "The predicted class can be calculated from the *y_pred* matrix by taking the index of the largest element in each row.\n",
    "\n"
   ]
  },
  {
   "cell_type": "code",
   "execution_count": 0,
   "metadata": {
    "colab": {},
    "colab_type": "code",
    "id": "Lu1-C6b0AiAl"
   },
   "outputs": [],
   "source": [
    "y_pred_cls = tf.argmax(y_pred, axis=1)"
   ]
  },
  {
   "cell_type": "markdown",
   "metadata": {
    "colab_type": "text",
    "id": "o0mnUeUeAh-A"
   },
   "source": [
    "## Cost-function to be optimized\n",
    "\n",
    "To make the model better at classifying the input images, we must somehow change the variables for weights and biases. To do this we first need to know how well the model currently performs by comparing the predicted output of the model *y_pred* to the desired output *y_true*.\n",
    "\n",
    "The cross-entropy is a performance measure used in classification. The cross-entropy is a continuous function that is always positive and if the predicted output of the model exactly matches the desired output then the cross-entropy equals zero. The goal of optimization is therefore to minimize the cross-entropy so it gets as close to zero as possible by changing the weights and biases of the model.\n",
    "\n",
    "TensorFlow has a built-in function for calculating the cross-entropy. Note that it uses the values of the *logits* because it also calculates the softmax internally."
   ]
  },
  {
   "cell_type": "code",
   "execution_count": 0,
   "metadata": {
    "colab": {},
    "colab_type": "code",
    "id": "2_ugq1YtAh7a"
   },
   "outputs": [],
   "source": [
    "cross_entropy = tf.nn.softmax_cross_entropy_with_logits_v2( logits= logits,\n",
    "                                                            labels = y_true)"
   ]
  },
  {
   "cell_type": "markdown",
   "metadata": {
    "colab_type": "text",
    "id": "yip8ANg6Ah4w"
   },
   "source": [
    "We have now calculated the cross-entropy for each of the image classifications so we have a measure of how well the model performs on each image individually. But in order to use the cross-entropy to guide the optimization of the model's variables we need a single scalar value, so we simply take the average of the cross-entropy for all the image classifications."
   ]
  },
  {
   "cell_type": "code",
   "execution_count": 0,
   "metadata": {
    "colab": {},
    "colab_type": "code",
    "id": "7xD5_xjVAh2M"
   },
   "outputs": [],
   "source": [
    "cost = tf.reduce_mean(cross_entropy)"
   ]
  },
  {
   "cell_type": "markdown",
   "metadata": {
    "colab_type": "text",
    "id": "ep00SliKAhzZ"
   },
   "source": [
    "## Optimization method\n",
    "\n",
    "Now that we have a cost measure that must be minimized, we can then create an optimizer. In this case it is the basic form of Gradient Descent where the step-size is set to 0.5.\n",
    "\n",
    "Note that optimization is not performed at this point. In fact, nothing is calculated at all, we just add the optimizer-object to the TensorFlow graph for later execution."
   ]
  },
  {
   "cell_type": "code",
   "execution_count": 0,
   "metadata": {
    "colab": {},
    "colab_type": "code",
    "id": "fvEeq6viAhwe"
   },
   "outputs": [],
   "source": [
    "optimizer = tf.train.GradientDescentOptimizer(learning_rate=0.5).minimize(cost)"
   ]
  },
  {
   "cell_type": "markdown",
   "metadata": {
    "colab_type": "text",
    "id": "bWg9PtW2Ahs6"
   },
   "source": [
    "## Performance measures\n",
    "\n",
    "We need a few more performance measures to display the progress to the user.\n",
    "\n",
    "This is a vector of booleans whether the predicted class equals the true class of each image."
   ]
  },
  {
   "cell_type": "code",
   "execution_count": 0,
   "metadata": {
    "colab": {},
    "colab_type": "code",
    "id": "ba5rcK_NAf6j"
   },
   "outputs": [],
   "source": [
    "correct_prediction = tf.equal( y_pred_cls , y_true_cls)"
   ]
  },
  {
   "cell_type": "markdown",
   "metadata": {
    "colab_type": "text",
    "id": "_OWS6cq3CHLr"
   },
   "source": [
    "This calculates the classification accuracy by first type-casting the vecotr of booleans to floats, so that False becomes 0 and True becomes 1, and then caculating the average of these numbers."
   ]
  },
  {
   "cell_type": "code",
   "execution_count": 0,
   "metadata": {
    "colab": {},
    "colab_type": "code",
    "id": "xN0vOjx1CTq6"
   },
   "outputs": [],
   "source": [
    "accuracy = tf.reduce_mean(tf.cast(correct_prediction, tf.float32))"
   ]
  },
  {
   "cell_type": "markdown",
   "metadata": {
    "colab_type": "text",
    "id": "sZFvqLc_Cbp_"
   },
   "source": [
    "# TensorFlow Run\n",
    "\n",
    "## Create Tensorflow Session\n",
    "\n",
    "Once the TensorFlow graph has been created, we have to create a TensorFlow session which is used to execute the graph.\n",
    "\n"
   ]
  },
  {
   "cell_type": "code",
   "execution_count": 0,
   "metadata": {
    "colab": {},
    "colab_type": "code",
    "id": "4Dw89A8zDCKk"
   },
   "outputs": [],
   "source": [
    "session = tf.Session()"
   ]
  },
  {
   "cell_type": "markdown",
   "metadata": {
    "colab_type": "text",
    "id": "M54PTdFUCqXd"
   },
   "source": [
    "## Initialize variables\n",
    "\n",
    "The variables for *weights* and *biases* must be initialized before we start optimizing them."
   ]
  },
  {
   "cell_type": "code",
   "execution_count": 0,
   "metadata": {
    "colab": {},
    "colab_type": "code",
    "id": "a1c3BtfLC_xE"
   },
   "outputs": [],
   "source": [
    "session.run(tf.global_variables_initializer())"
   ]
  },
  {
   "cell_type": "markdown",
   "metadata": {
    "colab_type": "text",
    "id": "Gf2jlobFDIHA"
   },
   "source": [
    "## Helper-function to perform optimization iterations\n",
    "\n",
    "There are 55.000 images in the training-set. It takes a long time to calculate the gradient of the model using all these images. We therefore use Stochastic Gradient Descent which only uses a small batch of images in each iteration of the optimizer."
   ]
  },
  {
   "cell_type": "code",
   "execution_count": 0,
   "metadata": {
    "colab": {},
    "colab_type": "code",
    "id": "jSx64h5UDZex"
   },
   "outputs": [],
   "source": [
    "batch_size = 100"
   ]
  },
  {
   "cell_type": "markdown",
   "metadata": {
    "colab_type": "text",
    "id": "Xd0aXof2DjNc"
   },
   "source": [
    "Function for performing a number of optimization iterations so as to gradually improve the weights and biases of the model. In each iteration, a new batch of data is selected from the training-set and then TensorFlow executes the optimizer using those training samples."
   ]
  },
  {
   "cell_type": "code",
   "execution_count": 0,
   "metadata": {
    "colab": {},
    "colab_type": "code",
    "id": "hmcdQdkyDlXg"
   },
   "outputs": [],
   "source": [
    "def optimize(num_iterations):\n",
    "  for i in range(num_iterations):\n",
    "    # Get a batch of training examples.\n",
    "    # x_batch now holds a batch of images and\n",
    "    # y_true_batch are the true labels for those images.\n",
    "    x_batch, y_true_batch = data.train.next_batch(batch_size= batch_size)\n",
    "    \n",
    "    # Put the batch into a dict with the proper names\n",
    "    # for placeholder variables in the TensorFlow graph.\n",
    "    # Note that the placeholder for y_true_cls is not set\n",
    "    # because it is not used during training.\n",
    "    feed_dict_train = {x : x_batch,\n",
    "                       y_true : y_true_batch}\n",
    "    \n",
    "    # Run the optimizer using this batch of training data.\n",
    "    # TensorFlow assigns the variables in feed_dict train\n",
    "    # to the placeholder variables and then runs the optimizer.\n",
    "    session.run(optimizer, feed_dict = feed_dict_train)"
   ]
  },
  {
   "cell_type": "markdown",
   "metadata": {
    "colab_type": "text",
    "id": "3hb1NocKFnu8"
   },
   "source": [
    "### Helper-functions to show performance¶\n",
    "\n",
    "Dict with the test-set data to be used as input to the TensorFlow graph. Note that we must use the correct names for the placeholder variables in the TensorFlow graph."
   ]
  },
  {
   "cell_type": "code",
   "execution_count": 0,
   "metadata": {
    "colab": {},
    "colab_type": "code",
    "id": "h4jLq6efF3Lx"
   },
   "outputs": [],
   "source": [
    "feed_dict_test = { \n",
    "                   x : data.test.images,\n",
    "                   y_true : data.test.labels,\n",
    "                   y_true_cls : [np.argmax(label) for label in data.test.labels]\n",
    "                  }"
   ]
  },
  {
   "cell_type": "markdown",
   "metadata": {
    "colab_type": "text",
    "id": "yeeMhd3hJEgp"
   },
   "source": [
    "Function for printing the classification accuracy on the test-set.\n",
    "\n"
   ]
  },
  {
   "cell_type": "code",
   "execution_count": 0,
   "metadata": {
    "colab": {},
    "colab_type": "code",
    "id": "dsFjgL1SJGEf"
   },
   "outputs": [],
   "source": [
    "def print_accuracy():\n",
    "  # Use TensorFlow to compute the accuracy.\n",
    "  acc = session.run(accuracy , feed_dict= feed_dict_test)\n",
    "  \n",
    "  # Print the accuracy.\n",
    "  print('Accuracy on Test-st : {0:.1%}'.format(acc))"
   ]
  },
  {
   "cell_type": "markdown",
   "metadata": {
    "colab_type": "text",
    "id": "qhQ7JUMZF3k_"
   },
   "source": [
    "Function for printing and plotting the confusion matrix using scikit-learn.\n",
    "\n"
   ]
  },
  {
   "cell_type": "code",
   "execution_count": 0,
   "metadata": {
    "colab": {},
    "colab_type": "code",
    "id": "RIBLN1_fH4yQ"
   },
   "outputs": [],
   "source": [
    "def print_confusion_matrix():\n",
    "  # Get the true classifications for the Test-set.\n",
    "  cls_true = [np.argmax(label) for label in data.test.labels]\n",
    "  \n",
    "  # Get the predicted classifications for the Test-set.\n",
    "  cls_pred = session.run(y_pred_cls, feed_dict = feed_dict_test)\n",
    "  \n",
    "  # Get the confusion matrix using sklearn.\n",
    "  cm = confusion_matrix(y_true = cls_true, \n",
    "                        y_pred = cls_pred)\n",
    "  \n",
    "  # Print the confusion matrix as text.\n",
    "  print(cm)\n",
    "  \n",
    "  # Plot the confusion matrix as an image.\n",
    "  plt.imshow(cm, interpolation ='nearest', cmap = plt.cm.Blues)\n",
    "  \n",
    "  # Make various adjustments to the plot.\n",
    "  plt.tight_layout()\n",
    "  plt.colorbar()\n",
    "  tick_marks = np.arange(num_classes)\n",
    "  plt.xticks(tick_marks, range(num_classes))\n",
    "  plt.yticks(tick_marks, range(num_classes))\n",
    "  plt.xlabel('Predicted')\n",
    "  plt.ylabel('True')\n",
    "  \n",
    "  # Ensure the plot is shown correctly with multiple plots\n",
    "  # in a single Notebook cell.\n",
    "  plt.show()"
   ]
  },
  {
   "cell_type": "markdown",
   "metadata": {
    "colab_type": "text",
    "id": "KcuLP8s2KZ8i"
   },
   "source": [
    "Functions for plotting examples of images from the Test-set that have been mis-classified."
   ]
  },
  {
   "cell_type": "code",
   "execution_count": 0,
   "metadata": {
    "colab": {},
    "colab_type": "code",
    "id": "SS2Ta29MKZyG"
   },
   "outputs": [],
   "source": [
    "def plot_example_errors():\n",
    "  # Use TensforFlow to get a list of boolean values\n",
    "  # whether each test-image has been correctly classified,\n",
    "  # and a list for the predicted class of each image.\n",
    "  correct, cls_pred = session.run([correct_prediction,\n",
    "                                   y_pred_cls],\n",
    "                                   feed_dict = feed_dict_test)\n",
    "  \n",
    "  # Negate the boolean array.\n",
    "  incorrect = (correct == False)\n",
    "  \n",
    "  # Get the images from the Test-set that have been \n",
    "  # incorrectly classified\n",
    "  images = data.test.images[incorrect]\n",
    "  \n",
    "  # Get the predicted classes for those images\n",
    "  cls_pred = cls_pred[incorrect]\n",
    "  \n",
    "  # Get the true classes for those images.\n",
    "  cls_true = [np.argmax(label) for label in data.test.labels[incorrect]]\n",
    "  \n",
    "  # Plot the first 9 images.\n",
    "  plot_images(images = images[0:9],\n",
    "              cls_true = cls_true[0:9],\n",
    "              cls_pred = cls_pred[0:9])"
   ]
  },
  {
   "cell_type": "markdown",
   "metadata": {
    "colab_type": "text",
    "id": "7PpPn4lnLuXm"
   },
   "source": [
    "### Helper-function to plot the model weights"
   ]
  },
  {
   "cell_type": "markdown",
   "metadata": {
    "colab_type": "text",
    "id": "sKsiNC-VLygh"
   },
   "source": [
    "Function for plotting the *weights* of the model. 10 images are plotted, one for each digit that the model is trained to recognize."
   ]
  },
  {
   "cell_type": "code",
   "execution_count": 0,
   "metadata": {
    "colab": {},
    "colab_type": "code",
    "id": "S-t528OEL3nY"
   },
   "outputs": [],
   "source": [
    "def plot_weights():\n",
    "  # Get the values for the weights from the TensforFlow variable\n",
    "  w = session.run(weights)\n",
    "  \n",
    "  # Get the lowest and hightest values for the weights.\n",
    "  # This is used to correct the colour intensity across\n",
    "  # the images so they can be compared with each other.\n",
    "  w_min = np.min(w)\n",
    "  w_max = np.max(w)\n",
    "  \n",
    "  # Create figure with 3x4 sub-plots, \n",
    "  # where the last 2 sub-plots are unused.\n",
    "  fig, axes = plt.subplots(3,4)\n",
    "  fig.subplots_adjust(hspace=0.3, wspace=0.3)\n",
    "  \n",
    "  for i, ax in enumerate(axes.flat):\n",
    "    # Only use the weights for the first 10 sub-plots\n",
    "    if i < 10:\n",
    "      # Get the weights for the i'th digit and reshape it.\n",
    "      # Note that w.shape == (img_size_flat, 10)\n",
    "      image = w[:, i].reshape(img_shape)\n",
    "      \n",
    "      # Set the label for the sub-plot.\n",
    "      ax.set_xlabel('Weights : {0}'.format(i))\n",
    "      \n",
    "      # Plot the image.\n",
    "      ax.imshow(image, vmin=w_min, vmax= w_max,\n",
    "                cmap = 'seismic')\n",
    "    # Remove ticks from each sub-plot\n",
    "    ax.set_xticks([])\n",
    "    ax.set_yticks([])\n",
    "    \n",
    "  # Ensure the plot is shown correctly with multiple plots\n",
    "  # in a single Notebook cell.\n",
    "  plt.show()"
   ]
  },
  {
   "cell_type": "markdown",
   "metadata": {
    "colab_type": "text",
    "id": "Q5466XQOL3hE"
   },
   "source": [
    "## Performance before any optimization\n",
    "\n",
    "The accuracy on the Test-set is 9.8%. This is because the model has only been initialized and not optimized at all, so it always predicts that the image show a zero digit, as demonstrated in the plot below, and it turns out that 9.8 of the images in the Test-set happens to be zero digits."
   ]
  },
  {
   "cell_type": "code",
   "execution_count": 32,
   "metadata": {
    "colab": {
     "base_uri": "https://localhost:8080/",
     "height": 35
    },
    "colab_type": "code",
    "executionInfo": {
     "elapsed": 1077,
     "status": "ok",
     "timestamp": 1546997356601,
     "user": {
      "displayName": "Kyeong Hwan Kim",
      "photoUrl": "https://lh3.googleusercontent.com/-w0uAFDcbl8M/AAAAAAAAAAI/AAAAAAAAAD4/peltVh4_2BQ/s64/photo.jpg",
      "userId": "18391823257989996047"
     },
     "user_tz": -540
    },
    "id": "S-E2KQf4F32J",
    "outputId": "dcd3cd87-1949-4f69-f18d-563f6291e8f7"
   },
   "outputs": [
    {
     "name": "stdout",
     "output_type": "stream",
     "text": [
      "Accuracy on Test-st : 9.8%\n"
     ]
    }
   ],
   "source": [
    "print_accuracy()"
   ]
  },
  {
   "cell_type": "code",
   "execution_count": 40,
   "metadata": {
    "colab": {
     "base_uri": "https://localhost:8080/",
     "height": 345
    },
    "colab_type": "code",
    "executionInfo": {
     "elapsed": 1386,
     "status": "ok",
     "timestamp": 1546997557308,
     "user": {
      "displayName": "Kyeong Hwan Kim",
      "photoUrl": "https://lh3.googleusercontent.com/-w0uAFDcbl8M/AAAAAAAAAAI/AAAAAAAAAD4/peltVh4_2BQ/s64/photo.jpg",
      "userId": "18391823257989996047"
     },
     "user_tz": -540
    },
    "id": "Fe3Nlxe1F4Gx",
    "outputId": "f774e773-90cd-4547-a136-faf40135954f"
   },
   "outputs": [
    {
     "data": {
      "image/png": "[encoded data removed]",
      "text/plain": [
       "<matplotlib.figure.Figure at 0x7fc89ef70d68>"
      ]
     },
     "metadata": {
      "tags": []
     },
     "output_type": "display_data"
    }
   ],
   "source": [
    "plot_example_errors()"
   ]
  },
  {
   "cell_type": "markdown",
   "metadata": {
    "colab_type": "text",
    "id": "eoXBgaGFF4Qh"
   },
   "source": [
    "## Performance after 1 optimzation iteration\n",
    "\n",
    "Already after a single optimization iteration, the model has increased its accuracy on the Test-set significantly."
   ]
  },
  {
   "cell_type": "code",
   "execution_count": 0,
   "metadata": {
    "colab": {},
    "colab_type": "code",
    "id": "jqbBAXZ5F4XS"
   },
   "outputs": [],
   "source": [
    "# Number of iteration means how many of batchs are iterated\n",
    "optimize(num_iterations= 1)"
   ]
  },
  {
   "cell_type": "code",
   "execution_count": 42,
   "metadata": {
    "colab": {
     "base_uri": "https://localhost:8080/",
     "height": 35
    },
    "colab_type": "code",
    "executionInfo": {
     "elapsed": 796,
     "status": "ok",
     "timestamp": 1546997568306,
     "user": {
      "displayName": "Kyeong Hwan Kim",
      "photoUrl": "https://lh3.googleusercontent.com/-w0uAFDcbl8M/AAAAAAAAAAI/AAAAAAAAAD4/peltVh4_2BQ/s64/photo.jpg",
      "userId": "18391823257989996047"
     },
     "user_tz": -540
    },
    "id": "rUSJX74uM3gw",
    "outputId": "125aa822-9328-44d5-c2a0-a334aebe5cad"
   },
   "outputs": [
    {
     "name": "stdout",
     "output_type": "stream",
     "text": [
      "Accuracy on Test-st : 35.1%\n"
     ]
    }
   ],
   "source": [
    "print_accuracy()"
   ]
  },
  {
   "cell_type": "code",
   "execution_count": 43,
   "metadata": {
    "colab": {
     "base_uri": "https://localhost:8080/",
     "height": 345
    },
    "colab_type": "code",
    "executionInfo": {
     "elapsed": 1348,
     "status": "ok",
     "timestamp": 1546997570620,
     "user": {
      "displayName": "Kyeong Hwan Kim",
      "photoUrl": "https://lh3.googleusercontent.com/-w0uAFDcbl8M/AAAAAAAAAAI/AAAAAAAAAD4/peltVh4_2BQ/s64/photo.jpg",
      "userId": "18391823257989996047"
     },
     "user_tz": -540
    },
    "id": "d6qajJOANI1Z",
    "outputId": "308d412c-123b-4c83-b38b-fd42f67b01c9"
   },
   "outputs": [
    {
     "data": {
      "image/png": "[encoded data removed]",
      "text/plain": [
       "<matplotlib.figure.Figure at 0x7fc89ecf64a8>"
      ]
     },
     "metadata": {
      "tags": []
     },
     "output_type": "display_data"
    }
   ],
   "source": [
    "plot_example_errors()"
   ]
  },
  {
   "cell_type": "markdown",
   "metadata": {
    "colab_type": "text",
    "id": "eHo0Jo-GNKhz"
   },
   "source": [
    "The weights can also be plotted as shown below. Positive weights are red and negative weights are blue. These weights can be intuitively understood as image-filters.\n",
    "\n",
    "For example, the weights used to determine if an image shows a zero-digit have a positive reaction (red) to an image of a circle, and have a negative reaction (blue) to images with content in the centre of the circle.\n",
    "\n",
    "Similarly, the weights used to determine if an image shows a one-digit react positively (red) to a vertical line in the centre of the image, and react negatively (blue) to images with content surrounding that line.\n",
    "\n",
    "Note that the weights mostly look like the digits they're supposed to recognize. This is because only one optimization iteration has been performed so the weights are only trained on 100 images. After training on several thousand images, the weights become more difficult to interpret because they have to recognize many variations of how digits can be written."
   ]
  },
  {
   "cell_type": "code",
   "execution_count": 45,
   "metadata": {
    "colab": {
     "base_uri": "https://localhost:8080/",
     "height": 345
    },
    "colab_type": "code",
    "executionInfo": {
     "elapsed": 1651,
     "status": "ok",
     "timestamp": 1546998282606,
     "user": {
      "displayName": "Kyeong Hwan Kim",
      "photoUrl": "https://lh3.googleusercontent.com/-w0uAFDcbl8M/AAAAAAAAAAI/AAAAAAAAAD4/peltVh4_2BQ/s64/photo.jpg",
      "userId": "18391823257989996047"
     },
     "user_tz": -540
    },
    "id": "G_tSTVrHR9Z5",
    "outputId": "9db0a23a-d18d-4ed7-c680-30b9da6f04d6"
   },
   "outputs": [
    {
     "data": {
      "image/png": "[encoded data removed]",
      "text/plain": [
       "<matplotlib.figure.Figure at 0x7fc89ef814a8>"
      ]
     },
     "metadata": {
      "tags": []
     },
     "output_type": "display_data"
    }
   ],
   "source": [
    "plot_weights()"
   ]
  },
  {
   "cell_type": "markdown",
   "metadata": {
    "colab_type": "text",
    "id": "P39D5un5SHKi"
   },
   "source": [
    "## Performance after 10 optimization iteration"
   ]
  },
  {
   "cell_type": "code",
   "execution_count": 0,
   "metadata": {
    "colab": {},
    "colab_type": "code",
    "id": "uKGzihANSMLV"
   },
   "outputs": [],
   "source": [
    "# We've already performed 1 iteration.\n",
    "optimize( num_iterations=9 )"
   ]
  },
  {
   "cell_type": "code",
   "execution_count": 48,
   "metadata": {
    "colab": {
     "base_uri": "https://localhost:8080/",
     "height": 35
    },
    "colab_type": "code",
    "executionInfo": {
     "elapsed": 1069,
     "status": "ok",
     "timestamp": 1546998346013,
     "user": {
      "displayName": "Kyeong Hwan Kim",
      "photoUrl": "https://lh3.googleusercontent.com/-w0uAFDcbl8M/AAAAAAAAAAI/AAAAAAAAAD4/peltVh4_2BQ/s64/photo.jpg",
      "userId": "18391823257989996047"
     },
     "user_tz": -540
    },
    "id": "HfHQUda4SR-X",
    "outputId": "1bec8832-9389-40a1-b68a-a4cecd99917a"
   },
   "outputs": [
    {
     "name": "stdout",
     "output_type": "stream",
     "text": [
      "Accuracy on Test-st : 80.2%\n"
     ]
    }
   ],
   "source": [
    "print_accuracy()"
   ]
  },
  {
   "cell_type": "code",
   "execution_count": 49,
   "metadata": {
    "colab": {
     "base_uri": "https://localhost:8080/",
     "height": 345
    },
    "colab_type": "code",
    "executionInfo": {
     "elapsed": 1445,
     "status": "ok",
     "timestamp": 1546998357772,
     "user": {
      "displayName": "Kyeong Hwan Kim",
      "photoUrl": "https://lh3.googleusercontent.com/-w0uAFDcbl8M/AAAAAAAAAAI/AAAAAAAAAD4/peltVh4_2BQ/s64/photo.jpg",
      "userId": "18391823257989996047"
     },
     "user_tz": -540
    },
    "id": "RCjEPnsuSTjK",
    "outputId": "5c0e0a35-1894-48d2-b60c-d2662e560d1e"
   },
   "outputs": [
    {
     "data": {
      "image/png": "[encoded data removed]",
      "text/plain": [
       "<matplotlib.figure.Figure at 0x7fc89ed5fd68>"
      ]
     },
     "metadata": {
      "tags": []
     },
     "output_type": "display_data"
    }
   ],
   "source": [
    "plot_example_errors()"
   ]
  },
  {
   "cell_type": "code",
   "execution_count": 50,
   "metadata": {
    "colab": {
     "base_uri": "https://localhost:8080/",
     "height": 345
    },
    "colab_type": "code",
    "executionInfo": {
     "elapsed": 1540,
     "status": "ok",
     "timestamp": 1546998365148,
     "user": {
      "displayName": "Kyeong Hwan Kim",
      "photoUrl": "https://lh3.googleusercontent.com/-w0uAFDcbl8M/AAAAAAAAAAI/AAAAAAAAAD4/peltVh4_2BQ/s64/photo.jpg",
      "userId": "18391823257989996047"
     },
     "user_tz": -540
    },
    "id": "RMgsoluYSZkM",
    "outputId": "0386aa5a-d58f-49fe-c119-34361005dbc4"
   },
   "outputs": [
    {
     "data": {
      "image/png": "[encoded data removed]",
      "text/plain": [
       "<matplotlib.figure.Figure at 0x7fc8b7c2e198>"
      ]
     },
     "metadata": {
      "tags": []
     },
     "output_type": "display_data"
    }
   ],
   "source": [
    "plot_weights()"
   ]
  },
  {
   "cell_type": "markdown",
   "metadata": {
    "colab_type": "text",
    "id": "ft4YXGHjSbV0"
   },
   "source": [
    "## Performance after 1000 optimization iterations\n",
    "\n",
    "After 1000 optimization iterations, the model only mis-classifies about one in ten images. As demonstrated below, some of the mis-classifications are justified because the images are very hard to determine with certainty even for humans, while others are quite obvious and should have been classified correctly by a good model. But this simple model cannot reach much better performance and more complex models are therefore needed."
   ]
  },
  {
   "cell_type": "code",
   "execution_count": 0,
   "metadata": {
    "colab": {},
    "colab_type": "code",
    "id": "svsaxjzvSi9w"
   },
   "outputs": [],
   "source": [
    "# We've already performed 10 iterations.\n",
    "optimize(num_iterations=990)"
   ]
  },
  {
   "cell_type": "code",
   "execution_count": 52,
   "metadata": {
    "colab": {
     "base_uri": "https://localhost:8080/",
     "height": 35
    },
    "colab_type": "code",
    "executionInfo": {
     "elapsed": 930,
     "status": "ok",
     "timestamp": 1546998450957,
     "user": {
      "displayName": "Kyeong Hwan Kim",
      "photoUrl": "https://lh3.googleusercontent.com/-w0uAFDcbl8M/AAAAAAAAAAI/AAAAAAAAAD4/peltVh4_2BQ/s64/photo.jpg",
      "userId": "18391823257989996047"
     },
     "user_tz": -540
    },
    "id": "caY95RS1Su3D",
    "outputId": "7c7e1535-193b-4c44-93e7-9d6516836951"
   },
   "outputs": [
    {
     "name": "stdout",
     "output_type": "stream",
     "text": [
      "Accuracy on Test-st : 92.0%\n"
     ]
    }
   ],
   "source": [
    "print_accuracy()"
   ]
  },
  {
   "cell_type": "code",
   "execution_count": 53,
   "metadata": {
    "colab": {
     "base_uri": "https://localhost:8080/",
     "height": 345
    },
    "colab_type": "code",
    "executionInfo": {
     "elapsed": 1601,
     "status": "ok",
     "timestamp": 1546998456524,
     "user": {
      "displayName": "Kyeong Hwan Kim",
      "photoUrl": "https://lh3.googleusercontent.com/-w0uAFDcbl8M/AAAAAAAAAAI/AAAAAAAAAD4/peltVh4_2BQ/s64/photo.jpg",
      "userId": "18391823257989996047"
     },
     "user_tz": -540
    },
    "id": "iGNKZ7_WSwcO",
    "outputId": "a6968dea-5aab-4dd5-b43d-e8b621932630"
   },
   "outputs": [
    {
     "data": {
      "image/png": "[encoded data removed]",
      "text/plain": [
       "<matplotlib.figure.Figure at 0x7fc8b00da668>"
      ]
     },
     "metadata": {
      "tags": []
     },
     "output_type": "display_data"
    }
   ],
   "source": [
    "plot_example_errors()"
   ]
  },
  {
   "cell_type": "markdown",
   "metadata": {
    "colab_type": "text",
    "id": "VrevmW6uS1SZ"
   },
   "source": [
    "The model has now been trained for 1000 optimization iterations, with each iteration using 100 images from the training-set. Because of the great variety of the images, the weights have now become difficult to interpret and we may doubt whether the model truly understands how digits are composed from lines, or whether the model has just memorized many different variations of pixels."
   ]
  },
  {
   "cell_type": "code",
   "execution_count": 54,
   "metadata": {
    "colab": {
     "base_uri": "https://localhost:8080/",
     "height": 345
    },
    "colab_type": "code",
    "executionInfo": {
     "elapsed": 1580,
     "status": "ok",
     "timestamp": 1546998461613,
     "user": {
      "displayName": "Kyeong Hwan Kim",
      "photoUrl": "https://lh3.googleusercontent.com/-w0uAFDcbl8M/AAAAAAAAAAI/AAAAAAAAAD4/peltVh4_2BQ/s64/photo.jpg",
      "userId": "18391823257989996047"
     },
     "user_tz": -540
    },
    "id": "iDZhg4m1Sxos",
    "outputId": "8c69e673-9fce-485f-a534-c386e2679a10"
   },
   "outputs": [
    {
     "data": {
      "image/png": "[encoded data removed]",
      "text/plain": [
       "<matplotlib.figure.Figure at 0x7fc8b00839b0>"
      ]
     },
     "metadata": {
      "tags": []
     },
     "output_type": "display_data"
    }
   ],
   "source": [
    "plot_weights()"
   ]
  },
  {
   "cell_type": "markdown",
   "metadata": {
    "colab_type": "text",
    "id": "luLlD2HVTA4N"
   },
   "source": [
    "We can also print and plot the so-called confusion matrix which lets us see more details about the mis-classifications. For example, it shows that images actually depicting a 5 have sometimes been mis-classified as all other possible digits, but mostly as 6 or 8."
   ]
  },
  {
   "cell_type": "code",
   "execution_count": 55,
   "metadata": {
    "colab": {
     "base_uri": "https://localhost:8080/",
     "height": 588
    },
    "colab_type": "code",
    "executionInfo": {
     "elapsed": 1429,
     "status": "ok",
     "timestamp": 1546998556736,
     "user": {
      "displayName": "Kyeong Hwan Kim",
      "photoUrl": "https://lh3.googleusercontent.com/-w0uAFDcbl8M/AAAAAAAAAAI/AAAAAAAAAD4/peltVh4_2BQ/s64/photo.jpg",
      "userId": "18391823257989996047"
     },
     "user_tz": -540
    },
    "id": "UXqQKE3QSy4g",
    "outputId": "449b80b6-a412-4c4f-a848-6c6ab59c4717"
   },
   "outputs": [
    {
     "name": "stdout",
     "output_type": "stream",
     "text": [
      "[[ 947    0    3    2    0   11   13    2    2    0]\n",
      " [   0 1107    2    2    0    2    4    2   16    0]\n",
      " [   4    7  919   16    6    4   18   14   37    7]\n",
      " [   3    0   15  924    0   30    4   12   16    6]\n",
      " [   1    1    3    2  898    0   18    4   12   43]\n",
      " [   8    2    4   35    7  782   18    7   22    7]\n",
      " [   7    3    3    2    9   14  917    1    2    0]\n",
      " [   1   11   23   10    6    1    0  945    2   29]\n",
      " [   3    5    6   33    8   33   11   10  858    7]\n",
      " [   7    6    1   13   30   11    1   30   10  900]]\n"
     ]
    },
    {
     "data": {
      "image/png": "[encoded data removed]",
      "text/plain": [
       "<matplotlib.figure.Figure at 0x7fc89ec7aac8>"
      ]
     },
     "metadata": {
      "tags": []
     },
     "output_type": "display_data"
    }
   ],
   "source": [
    "print_confusion_matrix()"
   ]
  },
  {
   "cell_type": "markdown",
   "metadata": {
    "colab_type": "text",
    "id": "xLD-ZCZXTKJK"
   },
   "source": [
    "We are now done using TensorFlow, so we close the session to release its resources."
   ]
  },
  {
   "cell_type": "code",
   "execution_count": 0,
   "metadata": {
    "colab": {},
    "colab_type": "code",
    "id": "YAZI8XNiTZCN"
   },
   "outputs": [],
   "source": [
    "session.close()"
   ]
  },
  {
   "cell_type": "markdown",
   "metadata": {},
   "source": [
    "## License (MIT)\n",
    "\n",
    "Copyright (c) 2016-2017 by [Magnus Erik Hvass Pedersen](http://www.hvass-labs.org/)\n",
    "\n",
    "Permission is hereby granted, free of charge, to any person obtaining a copy of this software and associated documentation files (the \"Software\"), to deal in the Software without restriction, including without limitation the rights to use, copy, modify, merge, publish, distribute, sublicense, and/or sell copies of the Software, and to permit persons to whom the Software is furnished to do so, subject to the following conditions:\n",
    "\n",
    "The above copyright notice and this permission notice shall be included in all copies or substantial portions of the Software.\n",
    "\n",
    "THE SOFTWARE IS PROVIDED \"AS IS\", WITHOUT WARRANTY OF ANY KIND, EXPRESS OR IMPLIED, INCLUDING BUT NOT LIMITED TO THE WARRANTIES OF MERCHANTABILITY, FITNESS FOR A PARTICULAR PURPOSE AND NONINFRINGEMENT. IN NO EVENT SHALL THE AUTHORS OR COPYRIGHT HOLDERS BE LIABLE FOR ANY CLAIM, DAMAGES OR OTHER LIABILITY, WHETHER IN AN ACTION OF CONTRACT, TORT OR OTHERWISE, ARISING FROM, OUT OF OR IN CONNECTION WITH THE SOFTWARE OR THE USE OR OTHER DEALINGS IN THE SOFTWARE."
   ]
  },
  {
   "cell_type": "code",
   "execution_count": null,
   "metadata": {},
   "outputs": [],
   "source": []
  }
 ],
 "metadata": {
  "accelerator": "GPU",
  "colab": {
   "collapsed_sections": [],
   "name": "01_Simple_Linear_Model.ipynb",
   "provenance": [],
   "version": "0.3.2"
  },
  "kernelspec": {
   "display_name": "Python 3",
   "language": "python",
   "name": "python3"
  },
  "language_info": {
   "codemirror_mode": {
    "name": "ipython",
    "version": 3
   },
   "file_extension": ".py",
   "mimetype": "text/x-python",
   "name": "python",
   "nbconvert_exporter": "python",
   "pygments_lexer": "ipython3",
   "version": "3.6.8"
  },
  "latex_envs": {
   "LaTeX_envs_menu_present": true,
   "autoclose": false,
   "autocomplete": true,
   "bibliofile": "biblio.bib",
   "cite_by": "apalike",
   "current_citInitial": 1,
   "eqLabelWithNumbers": true,
   "eqNumInitial": 1,
   "hotkeys": {
    "equation": "Ctrl-E",
    "itemize": "Ctrl-I"
   },
   "labels_anchors": false,
   "latex_user_defs": false,
   "report_style_numbering": false,
   "user_envs_cfg": false
  },
  "toc": {
   "base_numbering": 1,
   "nav_menu": {},
   "number_sections": true,
   "sideBar": true,
   "skip_h1_title": false,
   "title_cell": "Table of Contents",
   "title_sidebar": "Contents",
   "toc_cell": false,
   "toc_position": {},
   "toc_section_display": true,
   "toc_window_display": false
  },
  "varInspector": {
   "cols": {
    "lenName": 16,
    "lenType": 16,
    "lenVar": 40
   },
   "kernels_config": {
    "python": {
     "delete_cmd_postfix": "",
     "delete_cmd_prefix": "del ",
     "library": "var_list.py",
     "varRefreshCmd": "print(var_dic_list())"
    },
    "r": {
     "delete_cmd_postfix": ") ",
     "delete_cmd_prefix": "rm(",
     "library": "var_list.r",
     "varRefreshCmd": "cat(var_dic_list()) "
    }
   },
   "types_to_exclude": [
    "module",
    "function",
    "builtin_function_or_method",
    "instance",
    "_Feature"
   ],
   "window_display": false
  }
 },
 "nbformat": 4,
 "nbformat_minor": 1
}
